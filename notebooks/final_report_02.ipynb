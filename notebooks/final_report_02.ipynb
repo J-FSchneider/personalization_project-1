{
 "cells": [
  {
   "cell_type": "markdown",
   "metadata": {},
   "source": [
    "# Recommender System Final Project\n",
    "\n",
    "**The main purpose of this notebook is to understand how incorporating time awareness and adding various audio features can improve the accuracy of the recommender system that was develop to help Deezer in the first part of the project**. On one hand, intuitively, time of the day or day of the week should affect the music selection of the user. For example, if a user works out in the morning, then a genre like EMD with a higher tempo might be the best option. However on a Sunday morning, while reading a novel, a less energetic genre might be the most suitable option. On the other hand, being able to differentiate songs by more audio features should, in principle, aid the recommender system on discriminating better the preferences for each user. **Finally, to get a closer understanding of the performance of our recommender system, we incorporated our close friend's music preferences into the data set and created recommendations for them. We then discussed how satisfied they were with the recommendations**.\n",
    "\n",
    "**The notebook consists on the following sections** (each with the aim of answering a key question)\n",
    "* **_Introduction_**: will time awareness and audio features improve our recommendations?\n",
    "* **_Approach_**: how can we incorporate time awareness and audio features into our recommendations?\n",
    "* **_Validation_**: how were the hyper parameters tuned? what did our friends think about our recommendations?\n",
    "* **_Conclusions_**: what are the shortcomings of the approach?\n",
    "\n",
    "_Note : the previous \"project report\" complements this notebook. We do not discuss the problem context or the previous models that were develop in detail anymore. Please re-read key sections for a refresher in those topics._"
   ]
  },
  {
   "cell_type": "markdown",
   "metadata": {},
   "source": [
    "---"
   ]
  },
  {
   "cell_type": "markdown",
   "metadata": {},
   "source": [
    "## Do Imports & Load Data"
   ]
  },
  {
   "cell_type": "code",
   "execution_count": 1,
   "metadata": {
    "collapsed": true
   },
   "outputs": [],
   "source": [
    "# Managing relative imports\n",
    "import os\n",
    "import sys\n",
    "module_path = os.path.abspath(os.path.join('..'))\n",
    "if module_path not in sys.path:\n",
    "    sys.path.append(module_path)"
   ]
  },
  {
   "cell_type": "code",
   "execution_count": 2,
   "metadata": {
    "collapsed": true
   },
   "outputs": [],
   "source": [
    "import pandas as pd\n",
    "import numpy as np\n",
    "from scipy.stats import chi2_contingency\n",
    "from utils.Pipeline import Pipeline\n",
    "from utils.Vectorizer import Vectorizer\n",
    "from models.cross_features.CrossFeaturesModel import CrossFeaturesModel\n",
    "from models.tars.context_lf import ContextLF\n",
    "from models.cross_validation import ModelTester\n",
    "import utils.loss_functions as lf\n"
   ]
  },
  {
   "cell_type": "code",
   "execution_count": 3,
   "metadata": {
    "collapsed": true
   },
   "outputs": [],
   "source": [
    "%matplotlib inline"
   ]
  },
  {
   "cell_type": "code",
   "execution_count": 4,
   "metadata": {},
   "outputs": [
    {
     "name": "stdout",
     "output_type": "stream",
     "text": [
      "========== DATASET DESCRIPTION ==========\n",
      ">>> Shape: (1646569, 56)\n",
      ">>> Unique users: 19918\n",
      ">>> Unique songs: 4924\n",
      "=========================================\n",
      "========== DATASET DESCRIPTION ==========\n",
      ">>> Shape: (1646569, 56)\n",
      ">>> Unique users: 19918\n",
      ">>> Unique songs: 4924\n",
      "=========================================\n",
      "Running time: 103 seconds\n"
     ]
    }
   ],
   "source": [
    "spotify_file = \"SpotifyAudioFeatures_clean.csv\"\n",
    "data_file = \"train.csv\"\n",
    "# df = pd.read_csv(data_file, nrows=100)  # to check headers\n",
    "pipe = Pipeline(deezer_path=data_file, spotify_path=spotify_file)\n",
    "df = pipe.make_selected()\n",
    "chi_df = pipe.make()"
   ]
  },
  {
   "cell_type": "markdown",
   "metadata": {},
   "source": [
    "---"
   ]
  },
  {
   "cell_type": "markdown",
   "metadata": {},
   "source": [
    "## Introduction: will time awareness and audio features improve our recommendations?"
   ]
  },
  {
   "cell_type": "markdown",
   "metadata": {},
   "source": [
    "**We believe that both incorporating time awareness and discriminating by audio features will improve the recommendations of our model**. Beyond the _theoretical_ justifications of why this makes sense, **the data supports our intuition**. As it will be shown below, the vast majority of **the users vary the songs** that they listen to **throughout the day**. Moreover, **some audio features** like \"energy\", \"danceability\" and \"tempo\" **are more prevalent in certain time periods**. "
   ]
  },
  {
   "cell_type": "markdown",
   "metadata": {},
   "source": [
    "### User time behaviour analysis"
   ]
  },
  {
   "cell_type": "markdown",
   "metadata": {},
   "source": [
    "**The goal of this section is to show**, in a data driven manner, **that the majority of the users vary the songs that they listen to through time**; hence, supporting the idea that incorporating time awareness in our model is important. In order to frame the discussion, we will first justify the notion of time in the analysis as well as to explain how we are tracking listening behavior for each user.  "
   ]
  },
  {
   "cell_type": "markdown",
   "metadata": {},
   "source": [
    "#### Time splits rationale"
   ]
  },
  {
   "cell_type": "markdown",
   "metadata": {},
   "source": [
    "**In our analysis we split time into 6 buckets.** First we separated the different hours of day in the model into morning, afternoon and night. Then we separated the different days of the week into weekdays and weekends. **The first three splits of the day are based on the following time of day frequency analysis**"
   ]
  },
  {
   "cell_type": "markdown",
   "metadata": {},
   "source": [
    "<img src= \"./images/hour_freq.png \">"
   ]
  },
  {
   "cell_type": "markdown",
   "metadata": {},
   "source": [
    "From the above plot it can be seen that activity peaks in two times of the day (hence creating three natural splits). **Beyond the data analysis, there is also a domain knowledge justification for these time splits**. In France (as in most western countries), the work schedule separates the day into three parts. The first encompasses the time period (5AM - 9AM) where the users do their pre-work activities. The second is throughout their work time (9AM - 5PM) and the last being after work (>5PM). Based on this, it makes sense that the _type_ of music that a user listens is related to the time of the day that he is in. We are going to show the activity of user 3466 to illustrate these nuances."
   ]
  },
  {
   "cell_type": "code",
   "execution_count": 5,
   "metadata": {},
   "outputs": [
    {
     "data": {
      "text/html": [
       "<div>\n",
       "<style scoped>\n",
       "    .dataframe tbody tr th:only-of-type {\n",
       "        vertical-align: middle;\n",
       "    }\n",
       "\n",
       "    .dataframe tbody tr th {\n",
       "        vertical-align: top;\n",
       "    }\n",
       "\n",
       "    .dataframe thead th {\n",
       "        text-align: right;\n",
       "    }\n",
       "</style>\n",
       "<table border=\"1\" class=\"dataframe\">\n",
       "  <thead>\n",
       "    <tr style=\"text-align: right;\">\n",
       "      <th></th>\n",
       "      <th>user_id</th>\n",
       "      <th>media_id</th>\n",
       "      <th>moment_of_day</th>\n",
       "      <th>hour_listen</th>\n",
       "      <th>spotify_name</th>\n",
       "      <th>spotify_artist</th>\n",
       "      <th>energy</th>\n",
       "      <th>danceability</th>\n",
       "      <th>tempo</th>\n",
       "      <th>valence</th>\n",
       "      <th>times_listened_in_month</th>\n",
       "    </tr>\n",
       "  </thead>\n",
       "  <tbody>\n",
       "    <tr>\n",
       "      <th>0</th>\n",
       "      <td>3466</td>\n",
       "      <td>70079770</td>\n",
       "      <td>late_night</td>\n",
       "      <td>1</td>\n",
       "      <td>All of Me</td>\n",
       "      <td>John Legend</td>\n",
       "      <td>0.264</td>\n",
       "      <td>0.422</td>\n",
       "      <td>119.930</td>\n",
       "      <td>0.331</td>\n",
       "      <td>4</td>\n",
       "    </tr>\n",
       "    <tr>\n",
       "      <th>1</th>\n",
       "      <td>3466</td>\n",
       "      <td>130700214</td>\n",
       "      <td>afternoon_evening</td>\n",
       "      <td>18</td>\n",
       "      <td>C'est plus l'heure</td>\n",
       "      <td>Franglish</td>\n",
       "      <td>0.648</td>\n",
       "      <td>0.754</td>\n",
       "      <td>106.965</td>\n",
       "      <td>0.772</td>\n",
       "      <td>2</td>\n",
       "    </tr>\n",
       "    <tr>\n",
       "      <th>2</th>\n",
       "      <td>3466</td>\n",
       "      <td>130700214</td>\n",
       "      <td>afternoon_evening</td>\n",
       "      <td>19</td>\n",
       "      <td>C'est plus l'heure</td>\n",
       "      <td>Franglish</td>\n",
       "      <td>0.648</td>\n",
       "      <td>0.754</td>\n",
       "      <td>106.965</td>\n",
       "      <td>0.772</td>\n",
       "      <td>1</td>\n",
       "    </tr>\n",
       "    <tr>\n",
       "      <th>3</th>\n",
       "      <td>3466</td>\n",
       "      <td>135010092</td>\n",
       "      <td>morning</td>\n",
       "      <td>9</td>\n",
       "      <td>Makila</td>\n",
       "      <td>Kalash Criminel</td>\n",
       "      <td>0.868</td>\n",
       "      <td>0.825</td>\n",
       "      <td>129.990</td>\n",
       "      <td>0.661</td>\n",
       "      <td>4</td>\n",
       "    </tr>\n",
       "    <tr>\n",
       "      <th>4</th>\n",
       "      <td>3466</td>\n",
       "      <td>135010092</td>\n",
       "      <td>morning</td>\n",
       "      <td>11</td>\n",
       "      <td>Makila</td>\n",
       "      <td>Kalash Criminel</td>\n",
       "      <td>0.868</td>\n",
       "      <td>0.825</td>\n",
       "      <td>129.990</td>\n",
       "      <td>0.661</td>\n",
       "      <td>1</td>\n",
       "    </tr>\n",
       "  </tbody>\n",
       "</table>\n",
       "</div>"
      ],
      "text/plain": [
       "   user_id   media_id      moment_of_day  hour_listen        spotify_name  \\\n",
       "0     3466   70079770         late_night            1           All of Me   \n",
       "1     3466  130700214  afternoon_evening           18  C'est plus l'heure   \n",
       "2     3466  130700214  afternoon_evening           19  C'est plus l'heure   \n",
       "3     3466  135010092            morning            9              Makila   \n",
       "4     3466  135010092            morning           11              Makila   \n",
       "\n",
       "    spotify_artist  energy  danceability    tempo  valence  \\\n",
       "0      John Legend   0.264         0.422  119.930    0.331   \n",
       "1        Franglish   0.648         0.754  106.965    0.772   \n",
       "2        Franglish   0.648         0.754  106.965    0.772   \n",
       "3  Kalash Criminel   0.868         0.825  129.990    0.661   \n",
       "4  Kalash Criminel   0.868         0.825  129.990    0.661   \n",
       "\n",
       "   times_listened_in_month  \n",
       "0                        4  \n",
       "1                        2  \n",
       "2                        1  \n",
       "3                        4  \n",
       "4                        1  "
      ]
     },
     "execution_count": 5,
     "metadata": {},
     "output_type": "execute_result"
    }
   ],
   "source": [
    "pipe.user_song(user_id=3466, songs=[135010092, 130700214, 70079770]).head()"
   ]
  },
  {
   "cell_type": "markdown",
   "metadata": {},
   "source": [
    "**The table above contains a summary of top 3 songs played by this user through the month**. As it can be seen, **this user consistently played \"Makila\" by Kalash Criminel to start the day 9-11 AM**. **This song contains strong rap lyrics** and, as it can be seen from the audio features it contains the highest energy of all the three songs displayed. Energy is measured from a scale of 0 to 1 and represents a perceptual measure of intensity and activity. Typically, energetic tracks feel fast, loud, and noisy. However, **on the evening around 6-7 this user played \"C'est plus l'heure\" which has a relaxed vibe to it**, therefore more suitable for a tranquil time of the day. Finally, **on a more sentimental note, the user played all time famous \"All of Me\" by John Legend only late night around 1 AM** which has a really low energy measurement which is completely opposed to the morning song."
   ]
  },
  {
   "cell_type": "markdown",
   "metadata": {},
   "source": [
    "**The open question remains if this user is an outlier in the data, or if the majority of the users behave like this**. We will argue below that this encompasses the majority of the users. However, we will also first illustrate why a weekday and weekend split of time also makes sense according to our data set. For this we will look at the user 7's behavior"
   ]
  },
  {
   "cell_type": "code",
   "execution_count": 6,
   "metadata": {},
   "outputs": [
    {
     "data": {
      "text/html": [
       "<div>\n",
       "<style scoped>\n",
       "    .dataframe tbody tr th:only-of-type {\n",
       "        vertical-align: middle;\n",
       "    }\n",
       "\n",
       "    .dataframe tbody tr th {\n",
       "        vertical-align: top;\n",
       "    }\n",
       "\n",
       "    .dataframe thead th {\n",
       "        text-align: right;\n",
       "    }\n",
       "</style>\n",
       "<table border=\"1\" class=\"dataframe\">\n",
       "  <thead>\n",
       "    <tr style=\"text-align: right;\">\n",
       "      <th></th>\n",
       "      <th>user_id</th>\n",
       "      <th>media_id</th>\n",
       "      <th>moment_of_day</th>\n",
       "      <th>day_listen</th>\n",
       "      <th>hour_listen</th>\n",
       "      <th>spotify_name</th>\n",
       "      <th>spotify_artist</th>\n",
       "      <th>energy</th>\n",
       "      <th>danceability</th>\n",
       "      <th>tempo</th>\n",
       "      <th>valence</th>\n",
       "    </tr>\n",
       "  </thead>\n",
       "  <tbody>\n",
       "    <tr>\n",
       "      <th>6533</th>\n",
       "      <td>7</td>\n",
       "      <td>18190270</td>\n",
       "      <td>morning</td>\n",
       "      <td>21</td>\n",
       "      <td>14</td>\n",
       "      <td>Born To Die</td>\n",
       "      <td>Lana Del Rey</td>\n",
       "      <td>0.65</td>\n",
       "      <td>0.315</td>\n",
       "      <td>172.026</td>\n",
       "      <td>0.389</td>\n",
       "    </tr>\n",
       "    <tr>\n",
       "      <th>160056</th>\n",
       "      <td>7</td>\n",
       "      <td>18190270</td>\n",
       "      <td>morning</td>\n",
       "      <td>21</td>\n",
       "      <td>10</td>\n",
       "      <td>Born To Die</td>\n",
       "      <td>Lana Del Rey</td>\n",
       "      <td>0.65</td>\n",
       "      <td>0.315</td>\n",
       "      <td>172.026</td>\n",
       "      <td>0.389</td>\n",
       "    </tr>\n",
       "    <tr>\n",
       "      <th>197487</th>\n",
       "      <td>7</td>\n",
       "      <td>18190270</td>\n",
       "      <td>morning</td>\n",
       "      <td>21</td>\n",
       "      <td>13</td>\n",
       "      <td>Born To Die</td>\n",
       "      <td>Lana Del Rey</td>\n",
       "      <td>0.65</td>\n",
       "      <td>0.315</td>\n",
       "      <td>172.026</td>\n",
       "      <td>0.389</td>\n",
       "    </tr>\n",
       "    <tr>\n",
       "      <th>633209</th>\n",
       "      <td>7</td>\n",
       "      <td>18190270</td>\n",
       "      <td>afternoon_evening</td>\n",
       "      <td>21</td>\n",
       "      <td>15</td>\n",
       "      <td>Born To Die</td>\n",
       "      <td>Lana Del Rey</td>\n",
       "      <td>0.65</td>\n",
       "      <td>0.315</td>\n",
       "      <td>172.026</td>\n",
       "      <td>0.389</td>\n",
       "    </tr>\n",
       "    <tr>\n",
       "      <th>1127125</th>\n",
       "      <td>7</td>\n",
       "      <td>18190270</td>\n",
       "      <td>morning</td>\n",
       "      <td>21</td>\n",
       "      <td>10</td>\n",
       "      <td>Born To Die</td>\n",
       "      <td>Lana Del Rey</td>\n",
       "      <td>0.65</td>\n",
       "      <td>0.315</td>\n",
       "      <td>172.026</td>\n",
       "      <td>0.389</td>\n",
       "    </tr>\n",
       "    <tr>\n",
       "      <th>1577854</th>\n",
       "      <td>7</td>\n",
       "      <td>18190270</td>\n",
       "      <td>morning</td>\n",
       "      <td>21</td>\n",
       "      <td>6</td>\n",
       "      <td>Born To Die</td>\n",
       "      <td>Lana Del Rey</td>\n",
       "      <td>0.65</td>\n",
       "      <td>0.315</td>\n",
       "      <td>172.026</td>\n",
       "      <td>0.389</td>\n",
       "    </tr>\n",
       "    <tr>\n",
       "      <th>575672</th>\n",
       "      <td>7</td>\n",
       "      <td>18190270</td>\n",
       "      <td>morning</td>\n",
       "      <td>23</td>\n",
       "      <td>8</td>\n",
       "      <td>Born To Die</td>\n",
       "      <td>Lana Del Rey</td>\n",
       "      <td>0.65</td>\n",
       "      <td>0.315</td>\n",
       "      <td>172.026</td>\n",
       "      <td>0.389</td>\n",
       "    </tr>\n",
       "    <tr>\n",
       "      <th>670208</th>\n",
       "      <td>7</td>\n",
       "      <td>18190270</td>\n",
       "      <td>afternoon_evening</td>\n",
       "      <td>23</td>\n",
       "      <td>17</td>\n",
       "      <td>Born To Die</td>\n",
       "      <td>Lana Del Rey</td>\n",
       "      <td>0.65</td>\n",
       "      <td>0.315</td>\n",
       "      <td>172.026</td>\n",
       "      <td>0.389</td>\n",
       "    </tr>\n",
       "    <tr>\n",
       "      <th>1317095</th>\n",
       "      <td>7</td>\n",
       "      <td>18190270</td>\n",
       "      <td>morning</td>\n",
       "      <td>23</td>\n",
       "      <td>13</td>\n",
       "      <td>Born To Die</td>\n",
       "      <td>Lana Del Rey</td>\n",
       "      <td>0.65</td>\n",
       "      <td>0.315</td>\n",
       "      <td>172.026</td>\n",
       "      <td>0.389</td>\n",
       "    </tr>\n",
       "    <tr>\n",
       "      <th>705194</th>\n",
       "      <td>7</td>\n",
       "      <td>18190270</td>\n",
       "      <td>morning</td>\n",
       "      <td>25</td>\n",
       "      <td>13</td>\n",
       "      <td>Born To Die</td>\n",
       "      <td>Lana Del Rey</td>\n",
       "      <td>0.65</td>\n",
       "      <td>0.315</td>\n",
       "      <td>172.026</td>\n",
       "      <td>0.389</td>\n",
       "    </tr>\n",
       "    <tr>\n",
       "      <th>1383439</th>\n",
       "      <td>7</td>\n",
       "      <td>18190270</td>\n",
       "      <td>late_night</td>\n",
       "      <td>25</td>\n",
       "      <td>3</td>\n",
       "      <td>Born To Die</td>\n",
       "      <td>Lana Del Rey</td>\n",
       "      <td>0.65</td>\n",
       "      <td>0.315</td>\n",
       "      <td>172.026</td>\n",
       "      <td>0.389</td>\n",
       "    </tr>\n",
       "    <tr>\n",
       "      <th>635082</th>\n",
       "      <td>7</td>\n",
       "      <td>18190270</td>\n",
       "      <td>afternoon_evening</td>\n",
       "      <td>26</td>\n",
       "      <td>17</td>\n",
       "      <td>Born To Die</td>\n",
       "      <td>Lana Del Rey</td>\n",
       "      <td>0.65</td>\n",
       "      <td>0.315</td>\n",
       "      <td>172.026</td>\n",
       "      <td>0.389</td>\n",
       "    </tr>\n",
       "    <tr>\n",
       "      <th>783928</th>\n",
       "      <td>7</td>\n",
       "      <td>18190270</td>\n",
       "      <td>late_night</td>\n",
       "      <td>26</td>\n",
       "      <td>2</td>\n",
       "      <td>Born To Die</td>\n",
       "      <td>Lana Del Rey</td>\n",
       "      <td>0.65</td>\n",
       "      <td>0.315</td>\n",
       "      <td>172.026</td>\n",
       "      <td>0.389</td>\n",
       "    </tr>\n",
       "    <tr>\n",
       "      <th>1506678</th>\n",
       "      <td>7</td>\n",
       "      <td>18190270</td>\n",
       "      <td>morning</td>\n",
       "      <td>26</td>\n",
       "      <td>13</td>\n",
       "      <td>Born To Die</td>\n",
       "      <td>Lana Del Rey</td>\n",
       "      <td>0.65</td>\n",
       "      <td>0.315</td>\n",
       "      <td>172.026</td>\n",
       "      <td>0.389</td>\n",
       "    </tr>\n",
       "  </tbody>\n",
       "</table>\n",
       "</div>"
      ],
      "text/plain": [
       "         user_id  media_id      moment_of_day  day_listen  hour_listen  \\\n",
       "6533           7  18190270            morning          21           14   \n",
       "160056         7  18190270            morning          21           10   \n",
       "197487         7  18190270            morning          21           13   \n",
       "633209         7  18190270  afternoon_evening          21           15   \n",
       "1127125        7  18190270            morning          21           10   \n",
       "1577854        7  18190270            morning          21            6   \n",
       "575672         7  18190270            morning          23            8   \n",
       "670208         7  18190270  afternoon_evening          23           17   \n",
       "1317095        7  18190270            morning          23           13   \n",
       "705194         7  18190270            morning          25           13   \n",
       "1383439        7  18190270         late_night          25            3   \n",
       "635082         7  18190270  afternoon_evening          26           17   \n",
       "783928         7  18190270         late_night          26            2   \n",
       "1506678        7  18190270            morning          26           13   \n",
       "\n",
       "        spotify_name spotify_artist  energy  danceability    tempo  valence  \n",
       "6533     Born To Die   Lana Del Rey    0.65         0.315  172.026    0.389  \n",
       "160056   Born To Die   Lana Del Rey    0.65         0.315  172.026    0.389  \n",
       "197487   Born To Die   Lana Del Rey    0.65         0.315  172.026    0.389  \n",
       "633209   Born To Die   Lana Del Rey    0.65         0.315  172.026    0.389  \n",
       "1127125  Born To Die   Lana Del Rey    0.65         0.315  172.026    0.389  \n",
       "1577854  Born To Die   Lana Del Rey    0.65         0.315  172.026    0.389  \n",
       "575672   Born To Die   Lana Del Rey    0.65         0.315  172.026    0.389  \n",
       "670208   Born To Die   Lana Del Rey    0.65         0.315  172.026    0.389  \n",
       "1317095  Born To Die   Lana Del Rey    0.65         0.315  172.026    0.389  \n",
       "705194   Born To Die   Lana Del Rey    0.65         0.315  172.026    0.389  \n",
       "1383439  Born To Die   Lana Del Rey    0.65         0.315  172.026    0.389  \n",
       "635082   Born To Die   Lana Del Rey    0.65         0.315  172.026    0.389  \n",
       "783928   Born To Die   Lana Del Rey    0.65         0.315  172.026    0.389  \n",
       "1506678  Born To Die   Lana Del Rey    0.65         0.315  172.026    0.389  "
      ]
     },
     "execution_count": 6,
     "metadata": {},
     "output_type": "execute_result"
    }
   ],
   "source": [
    "pipe.user_day(user_id=7, song_id=18190270, days=[21, 23, 25, 26])"
   ]
  },
  {
   "cell_type": "markdown",
   "metadata": {},
   "source": [
    "**In the table above we see the daily activity for the top song of user 7**. The table encompasses the last week of the month of November 2016 starting Sunday 20th and ending Saturday the 26th. **Even though this user is stuck with \"Born To Die\", we see different time patterns depending on whether the day of the week is Mon-Thursday or Friday-Saturday**. During the weekdays, the user played the song two times a day: in the morning and in the evening. However, this behavior shifted in the weekend to something closer to evening and late night. Hence, to properly control for this changes in time behavior (users are not obliged to wake-up early to go to work) we are creating the weekday and weekend split. **Furthermore, the time frequency comparison below of weekday vs weekend also supports this point on the aggregate level**"
   ]
  },
  {
   "cell_type": "markdown",
   "metadata": {},
   "source": [
    "<img src= \"./images/weekday_weekend.png \">"
   ]
  },
  {
   "cell_type": "markdown",
   "metadata": {},
   "source": [
    "#### Listening activity measurement"
   ]
  },
  {
   "cell_type": "markdown",
   "metadata": {},
   "source": [
    "**The main question we address by measuring listening activity is if users change the songs that they listened to throughout the day.** This plays a key role for justifying our approach. **If the majority of the users are stuck with a certain group of songs, playing them all day long, then making the recommender system time aware would not yield any improvements.** An example of this behavior was seen above by user 7. No matter what time of the day it was, she always played Lana del Rey's \"Born to Die\"; moreover, all the top songs of that user showed the same behavior. Hence, the time of the day for this user only helps to understand when this user is more likely to log-in into the app, but the listening patterns remain fixed. On the opposite side of the spectrum we have cases like user 3466 which did vary the energy levels of the songs through the day. **Therefore, what profile is more common in the data?**"
   ]
  },
  {
   "cell_type": "markdown",
   "metadata": {},
   "source": [
    "**The approach used to measure the listening activity is the following.** **First, we determined which are the relevant time periods of each user.** If a user never logs-in into the app on the evenings then that time period was filter out when analyzing her listening behavior. Actually, any time period that accounted for less that 5% of the user's listening activity was taken out for robustness purposes in our calculations. **Then, we looked for the songs that were played across all the time periods.** Going back to our users example, for user 7 we included Lana del Rey's song in the computation since it was played through all the relevant time periods. But for user 3466, none of the top three songs were included in the analysis since they where only played in specific time periods and not across all. We understand that this is a strict requirement but it provides us with a direct answer of whether a user is playing the same songs or not through the day. **Finally, we gave each user a score based on how consistently he/she played the same songs throughout all time periods.** No user is black or white. Even user 7 has some songs that were not played through all the time periods; same for user 3488. The score measures the % of the listening activity that was played throughout all time periods. **For the % of listening activity, we calculate the number of times that a song was played throughout the month and divide that number by the total of songs played in that time frame** (a numerical example will be provided below). "
   ]
  },
  {
   "cell_type": "markdown",
   "metadata": {},
   "source": [
    "Below we plot user / time period distributions to illustrate why it is important to only account for the \"relevant\" time periods for the calculation."
   ]
  },
  {
   "cell_type": "markdown",
   "metadata": {},
   "source": [
    "<img src= \"./images/user_timedis.png \">\n",
    "\n",
    "As it is seen above, user 13 never listens to music late night. Hence it makes no sense to require that a song gets also played in this time bucket to say that it is consistently played over time. However, if she plays the same song in the morning and the afternoon, then it is actually the case that she is playing the same songs consistently. On the other hand, for user 2 it also seems counter intuitive to add into the analysis the afternoon/evening period. Roughly 4% of his activity concentrates there, which almost seems like noise or non-recurrent events. On the contrary, there are users like 1 for whom all time periods are relevant and hence the measurement accounts for all of them."
   ]
  },
  {
   "cell_type": "markdown",
   "metadata": {},
   "source": [
    "Once the relevant time periods for each user are determined, **we find the songs that were played across all time periods by easily checking whether the song has a positive amount of plays in each time bucket.** Again, if a user does not play a song in a certain time period (and it is relevant) then we can argue that he is not listening to the same music throughout all the day. Especially for the relevant songs. If the _most listened song_ does not appear in a certain time bucket then it does hint that it is more suitable for certain times of the day or, at the very least, that the user alters his listening behavior depending on time. Analyzing an opposite scenario, if the song has at least one play in each time bucket then we will say that that song was played in that time frame. It might seem over optimistic to assert that a song that was played only once in a certain time bucket should be considered as being consistently listened to in that time period. However, we do not correct for this fact since, even with the over estimation, the consistency results are low at the aggregate level "
   ]
  },
  {
   "cell_type": "code",
   "execution_count": 7,
   "metadata": {},
   "outputs": [
    {
     "data": {
      "text/html": [
       "<div>\n",
       "<style scoped>\n",
       "    .dataframe tbody tr th:only-of-type {\n",
       "        vertical-align: middle;\n",
       "    }\n",
       "\n",
       "    .dataframe tbody tr th {\n",
       "        vertical-align: top;\n",
       "    }\n",
       "\n",
       "    .dataframe thead th {\n",
       "        text-align: right;\n",
       "    }\n",
       "</style>\n",
       "<table border=\"1\" class=\"dataframe\">\n",
       "  <thead>\n",
       "    <tr style=\"text-align: right;\">\n",
       "      <th></th>\n",
       "      <th>moment_of_day</th>\n",
       "      <th>afternoon_evening</th>\n",
       "      <th>late_night</th>\n",
       "      <th>morning</th>\n",
       "    </tr>\n",
       "    <tr>\n",
       "      <th>user_id</th>\n",
       "      <th>media_id</th>\n",
       "      <th></th>\n",
       "      <th></th>\n",
       "      <th></th>\n",
       "    </tr>\n",
       "  </thead>\n",
       "  <tbody>\n",
       "    <tr>\n",
       "      <th rowspan=\"5\" valign=\"top\">0</th>\n",
       "      <th>534628</th>\n",
       "      <td>2.0</td>\n",
       "      <td>5.0</td>\n",
       "      <td>6.0</td>\n",
       "    </tr>\n",
       "    <tr>\n",
       "      <th>549957</th>\n",
       "      <td>2.0</td>\n",
       "      <td>4.0</td>\n",
       "      <td>4.0</td>\n",
       "    </tr>\n",
       "    <tr>\n",
       "      <th>549995</th>\n",
       "      <td>NaN</td>\n",
       "      <td>1.0</td>\n",
       "      <td>2.0</td>\n",
       "    </tr>\n",
       "    <tr>\n",
       "      <th>562487</th>\n",
       "      <td>NaN</td>\n",
       "      <td>NaN</td>\n",
       "      <td>1.0</td>\n",
       "    </tr>\n",
       "    <tr>\n",
       "      <th>573059</th>\n",
       "      <td>NaN</td>\n",
       "      <td>1.0</td>\n",
       "      <td>1.0</td>\n",
       "    </tr>\n",
       "  </tbody>\n",
       "</table>\n",
       "</div>"
      ],
      "text/plain": [
       "moment_of_day     afternoon_evening  late_night  morning\n",
       "user_id media_id                                        \n",
       "0       534628                  2.0         5.0      6.0\n",
       "        549957                  2.0         4.0      4.0\n",
       "        549995                  NaN         1.0      2.0\n",
       "        562487                  NaN         NaN      1.0\n",
       "        573059                  NaN         1.0      1.0"
      ]
     },
     "execution_count": 7,
     "metadata": {},
     "output_type": "execute_result"
    }
   ],
   "source": [
    "pipe.get_user_pivot().head()"
   ]
  },
  {
   "cell_type": "markdown",
   "metadata": {},
   "source": [
    "In the above example, we see that user 0 listened to the third song 3 times in total; 2 in the morning, 1 late_night but none in the afternoon so this song will not count as a song listed in all time periods. **Finally to come up with an individual user score**, we add the % of the listening activity that was consistently listened to in all time periods. For example, take user 1"
   ]
  },
  {
   "cell_type": "code",
   "execution_count": 8,
   "metadata": {},
   "outputs": [
    {
     "data": {
      "text/html": [
       "<div>\n",
       "<style scoped>\n",
       "    .dataframe tbody tr th:only-of-type {\n",
       "        vertical-align: middle;\n",
       "    }\n",
       "\n",
       "    .dataframe tbody tr th {\n",
       "        vertical-align: top;\n",
       "    }\n",
       "\n",
       "    .dataframe thead th {\n",
       "        text-align: right;\n",
       "    }\n",
       "</style>\n",
       "<table border=\"1\" class=\"dataframe\">\n",
       "  <thead>\n",
       "    <tr style=\"text-align: right;\">\n",
       "      <th></th>\n",
       "      <th>user_id</th>\n",
       "      <th>media_id</th>\n",
       "      <th>spotify_name</th>\n",
       "      <th>spotify_artist</th>\n",
       "      <th>mult</th>\n",
       "      <th>song_sum</th>\n",
       "      <th>total</th>\n",
       "      <th>weights</th>\n",
       "    </tr>\n",
       "  </thead>\n",
       "  <tbody>\n",
       "    <tr>\n",
       "      <th>275</th>\n",
       "      <td>1</td>\n",
       "      <td>129310248</td>\n",
       "      <td>Closer</td>\n",
       "      <td>The Chainsmokers</td>\n",
       "      <td>1</td>\n",
       "      <td>13</td>\n",
       "      <td>1429</td>\n",
       "      <td>0.009097</td>\n",
       "    </tr>\n",
       "    <tr>\n",
       "      <th>435</th>\n",
       "      <td>1</td>\n",
       "      <td>92734438</td>\n",
       "      <td>Uptown Funk</td>\n",
       "      <td>Mark Ronson</td>\n",
       "      <td>0</td>\n",
       "      <td>13</td>\n",
       "      <td>1429</td>\n",
       "      <td>0.009097</td>\n",
       "    </tr>\n",
       "    <tr>\n",
       "      <th>152</th>\n",
       "      <td>1</td>\n",
       "      <td>1067076</td>\n",
       "      <td>Play That Funky Music</td>\n",
       "      <td>Wild Cherry</td>\n",
       "      <td>0</td>\n",
       "      <td>11</td>\n",
       "      <td>1429</td>\n",
       "      <td>0.007698</td>\n",
       "    </tr>\n",
       "    <tr>\n",
       "      <th>513</th>\n",
       "      <td>1</td>\n",
       "      <td>110954154</td>\n",
       "      <td>Just Like A Child</td>\n",
       "      <td>James Morrison</td>\n",
       "      <td>1</td>\n",
       "      <td>11</td>\n",
       "      <td>1429</td>\n",
       "      <td>0.007698</td>\n",
       "    </tr>\n",
       "    <tr>\n",
       "      <th>64</th>\n",
       "      <td>1</td>\n",
       "      <td>13161798</td>\n",
       "      <td>Me and Mrs. Jones</td>\n",
       "      <td>Billy Paul</td>\n",
       "      <td>0</td>\n",
       "      <td>10</td>\n",
       "      <td>1429</td>\n",
       "      <td>0.006998</td>\n",
       "    </tr>\n",
       "  </tbody>\n",
       "</table>\n",
       "</div>"
      ],
      "text/plain": [
       "     user_id   media_id           spotify_name    spotify_artist  mult  \\\n",
       "275        1  129310248                 Closer  The Chainsmokers     1   \n",
       "435        1   92734438            Uptown Funk       Mark Ronson     0   \n",
       "152        1    1067076  Play That Funky Music       Wild Cherry     0   \n",
       "513        1  110954154      Just Like A Child    James Morrison     1   \n",
       "64         1   13161798      Me and Mrs. Jones        Billy Paul     0   \n",
       "\n",
       "     song_sum  total   weights  \n",
       "275        13   1429  0.009097  \n",
       "435        13   1429  0.009097  \n",
       "152        11   1429  0.007698  \n",
       "513        11   1429  0.007698  \n",
       "64         10   1429  0.006998  "
      ]
     },
     "execution_count": 8,
     "metadata": {},
     "output_type": "execute_result"
    }
   ],
   "source": [
    "pipe.run_user_analysis(user_id=1).head()"
   ]
  },
  {
   "cell_type": "markdown",
   "metadata": {},
   "source": [
    "**The table is read as follows:** the \"total\" column represent the total number of interactions that the user had in the month (that is, the different number of songs that he listened to \"times\" the amount of repetitions of that song in the given time frame). The \"song_sum\" column represents the total number of times that the given song was listened throughout the month, in this case \"Uptown Funk\" was listened to 13 times during the month. Finally the \"weights\" represent the quotient of the previous two columns. **To come up with a user score, we only aggregate the \"weights\" that have \"mult\" equals to 1, which are the songs that were listened to during all relevant time periods.**"
   ]
  },
  {
   "cell_type": "markdown",
   "metadata": {},
   "source": [
    "The final summary at the user level is"
   ]
  },
  {
   "cell_type": "code",
   "execution_count": 9,
   "metadata": {},
   "outputs": [
    {
     "data": {
      "text/html": [
       "<div>\n",
       "<style scoped>\n",
       "    .dataframe tbody tr th:only-of-type {\n",
       "        vertical-align: middle;\n",
       "    }\n",
       "\n",
       "    .dataframe tbody tr th {\n",
       "        vertical-align: top;\n",
       "    }\n",
       "\n",
       "    .dataframe thead th {\n",
       "        text-align: right;\n",
       "    }\n",
       "</style>\n",
       "<table border=\"1\" class=\"dataframe\">\n",
       "  <thead>\n",
       "    <tr style=\"text-align: right;\">\n",
       "      <th></th>\n",
       "      <th>user_id</th>\n",
       "      <th>final</th>\n",
       "      <th>song_rel_per</th>\n",
       "    </tr>\n",
       "  </thead>\n",
       "  <tbody>\n",
       "    <tr>\n",
       "      <th>0</th>\n",
       "      <td>0</td>\n",
       "      <td>0.436559</td>\n",
       "      <td>0.001264</td>\n",
       "    </tr>\n",
       "    <tr>\n",
       "      <th>1</th>\n",
       "      <td>1</td>\n",
       "      <td>0.149755</td>\n",
       "      <td>0.001295</td>\n",
       "    </tr>\n",
       "    <tr>\n",
       "      <th>2</th>\n",
       "      <td>2</td>\n",
       "      <td>0.767814</td>\n",
       "      <td>0.001132</td>\n",
       "    </tr>\n",
       "    <tr>\n",
       "      <th>3</th>\n",
       "      <td>3</td>\n",
       "      <td>0.033708</td>\n",
       "      <td>0.000161</td>\n",
       "    </tr>\n",
       "    <tr>\n",
       "      <th>4</th>\n",
       "      <td>4</td>\n",
       "      <td>0.687500</td>\n",
       "      <td>0.000290</td>\n",
       "    </tr>\n",
       "  </tbody>\n",
       "</table>\n",
       "</div>"
      ],
      "text/plain": [
       "   user_id     final  song_rel_per\n",
       "0        0  0.436559      0.001264\n",
       "1        1  0.149755      0.001295\n",
       "2        2  0.767814      0.001132\n",
       "3        3  0.033708      0.000161\n",
       "4        4  0.687500      0.000290"
      ]
     },
     "execution_count": 9,
     "metadata": {},
     "output_type": "execute_result"
    }
   ],
   "source": [
    "u_fin = pipe.run_analysis(); u_fin.head(5)"
   ]
  },
  {
   "cell_type": "markdown",
   "metadata": {},
   "source": [
    "where it can be seen that some users like 2 or 4 are stuck listening to the same songs all the time whereas users like 1 or 3 vary their musical patterns. **At the aggregate level the weighted value is 34%** (as seen below). "
   ]
  },
  {
   "cell_type": "code",
   "execution_count": 10,
   "metadata": {},
   "outputs": [
    {
     "name": "stdout",
     "output_type": "stream",
     "text": [
      "0.34\n"
     ]
    }
   ],
   "source": [
    "print(\"{:2.2f}\".format(np.sum(u_fin[\"final\"] * u_fin[\"song_rel_per\"])))"
   ]
  },
  {
   "cell_type": "markdown",
   "metadata": {},
   "source": [
    "### Audio features analysis"
   ]
  },
  {
   "cell_type": "markdown",
   "metadata": {},
   "source": [
    "**The audio features incorporated into the data set were parsed from Spotify's API**: https://developer.spotify.com/web-api/object-model/#audio-features-object. We matched the song name and artist name from the Deezer Dataset, querried the Spotify_ID and retrieved additional features (described below) from the spotify API.\n",
    "\n",
    "The main motivation for doing so is twofold. First, **we want to help the recommender system by giving it more features to discriminate**. Second, **we want to understand how _diverse_ are the recommendations that we are providing to the user**. For example, with the addtion of these features we can determine if the majority of the recommendations for a user come from a single genre or if they are all energetic songs.\n",
    "\n",
    "\n",
    "The list of features added into the model is quite large. However, **below are the ones that we were most interested in**. We provide a brief definition and also a rational on why they are relevant.\n",
    "* **_Energy_**: As explained in the last section, this feature measures the perceptual intensity of a song in a (0, 1) scale. This feature is relevant for the analysis since some moments of the day / activities are more suitable for more energetic music. \n",
    "* **_Danceability_**: This feature measures how suitable a track is for dancing; it combines overall regularity and rhythm stability. It is also in a (0, 1) scale. This feature is relevant again due to its connection with day of the week. More \"danceable\" songs are more appealing for a Saturday night than for a Monday morning.\n",
    "* **_Tempo_**: This feature is simply the BPM of a song. This feature is relevant since it would help us understand how a user might like or dislike slow paced songs. Also, this featured is linked to the two previous ones.\n",
    "* **_Valence_**: This feature measures the \"positiveness\" conveyed by the track. It is measure in a (0, 1) scale and a higher number reflects happy and cheerful songs while a lower sad or depressed notes. This feature is relevant to understand more deeply the music selection of a user. Two users might like the hip-hop genre; however one can prefer more a Kanye West style while the other something like the Wu-Tang Clan. In this scenario, valence would help us further discriminate the user on how \"strong\" their hip-hop music preferences are.\n",
    "* **_Speechiness_**: This feature detects the presence of spoken words in the track. It is also measured in a (0, 1) scale, where values lesser than 0.33 come from songs that contain no spoken words whereas values over 0.66 of songs based on mostly spoken words (rap). This feature is relevant since it would allow us to understand how much a user is into songs that contain vocals rather than just simply music beats."
   ]
  },
  {
   "cell_type": "markdown",
   "metadata": {},
   "source": [
    "**To understand if these features would actually prove useful for our data set we ran non-parametric chi-square tests.** Below are two of the most relevant results. One links time of the day and the perceptual energy of a song. And the other time of the week to the danceability of a song."
   ]
  },
  {
   "cell_type": "code",
   "execution_count": 63,
   "metadata": {},
   "outputs": [
    {
     "data": {
      "text/html": [
       "<div>\n",
       "<style scoped>\n",
       "    .dataframe tbody tr th:only-of-type {\n",
       "        vertical-align: middle;\n",
       "    }\n",
       "\n",
       "    .dataframe tbody tr th {\n",
       "        vertical-align: top;\n",
       "    }\n",
       "\n",
       "    .dataframe thead th {\n",
       "        text-align: right;\n",
       "    }\n",
       "</style>\n",
       "<table border=\"1\" class=\"dataframe\">\n",
       "  <thead>\n",
       "    <tr style=\"text-align: right;\">\n",
       "      <th>track_energy_bucket</th>\n",
       "      <th>high</th>\n",
       "      <th>low</th>\n",
       "      <th>med</th>\n",
       "    </tr>\n",
       "    <tr>\n",
       "      <th>moment_of_day</th>\n",
       "      <th></th>\n",
       "      <th></th>\n",
       "      <th></th>\n",
       "    </tr>\n",
       "  </thead>\n",
       "  <tbody>\n",
       "    <tr>\n",
       "      <th>afternoon_evening</th>\n",
       "      <td>185151</td>\n",
       "      <td>19882</td>\n",
       "      <td>139478</td>\n",
       "    </tr>\n",
       "    <tr>\n",
       "      <th>late_night</th>\n",
       "      <td>157624</td>\n",
       "      <td>16547</td>\n",
       "      <td>116477</td>\n",
       "    </tr>\n",
       "    <tr>\n",
       "      <th>morning</th>\n",
       "      <td>551737</td>\n",
       "      <td>55647</td>\n",
       "      <td>404026</td>\n",
       "    </tr>\n",
       "  </tbody>\n",
       "</table>\n",
       "</div>"
      ],
      "text/plain": [
       "track_energy_bucket    high    low     med\n",
       "moment_of_day                             \n",
       "afternoon_evening    185151  19882  139478\n",
       "late_night           157624  16547  116477\n",
       "morning              551737  55647  404026"
      ]
     },
     "execution_count": 63,
     "metadata": {},
     "output_type": "execute_result"
    }
   ],
   "source": [
    "# Chi-square test for time_of_day vs energy\n",
    "chi = pd.crosstab(chi_df[\"moment_of_day\"], chi_df[\"track_energy_bucket\"])\n",
    "_, p_val, _, expected_energy  = chi2_contingency(chi, correction=True, lambda_=None)\n",
    "chi"
   ]
  },
  {
   "cell_type": "code",
   "execution_count": 64,
   "metadata": {},
   "outputs": [
    {
     "name": "stdout",
     "output_type": "stream",
     "text": [
      "The p-value obtained for this test is 1.4207e-18\n"
     ]
    }
   ],
   "source": [
    "print(\"The p-value obtained for this test is {:2.4e}\".format(p_val))"
   ]
  },
  {
   "cell_type": "markdown",
   "metadata": {},
   "source": [
    "**As we see the p-value is really low, hence we cannot reject the idea that time of day and energy are independent.** Thus, this result hints that the majority of the users follow a behavior similar to user 3466 that we discussed in the beginning of the section."
   ]
  },
  {
   "cell_type": "code",
   "execution_count": 65,
   "metadata": {},
   "outputs": [
    {
     "data": {
      "text/html": [
       "<div>\n",
       "<style scoped>\n",
       "    .dataframe tbody tr th:only-of-type {\n",
       "        vertical-align: middle;\n",
       "    }\n",
       "\n",
       "    .dataframe tbody tr th {\n",
       "        vertical-align: top;\n",
       "    }\n",
       "\n",
       "    .dataframe thead th {\n",
       "        text-align: right;\n",
       "    }\n",
       "</style>\n",
       "<table border=\"1\" class=\"dataframe\">\n",
       "  <thead>\n",
       "    <tr style=\"text-align: right;\">\n",
       "      <th>track_danceability_bucket</th>\n",
       "      <th>no-dance</th>\n",
       "      <th>yes-dance</th>\n",
       "    </tr>\n",
       "    <tr>\n",
       "      <th>moment_of_day</th>\n",
       "      <th></th>\n",
       "      <th></th>\n",
       "    </tr>\n",
       "  </thead>\n",
       "  <tbody>\n",
       "    <tr>\n",
       "      <th>afternoon_evening</th>\n",
       "      <td>22884</td>\n",
       "      <td>321627</td>\n",
       "    </tr>\n",
       "    <tr>\n",
       "      <th>late_night</th>\n",
       "      <td>19106</td>\n",
       "      <td>271542</td>\n",
       "    </tr>\n",
       "    <tr>\n",
       "      <th>morning</th>\n",
       "      <td>65327</td>\n",
       "      <td>946083</td>\n",
       "    </tr>\n",
       "  </tbody>\n",
       "</table>\n",
       "</div>"
      ],
      "text/plain": [
       "track_danceability_bucket  no-dance  yes-dance\n",
       "moment_of_day                                 \n",
       "afternoon_evening             22884     321627\n",
       "late_night                    19106     271542\n",
       "morning                       65327     946083"
      ]
     },
     "execution_count": 65,
     "metadata": {},
     "output_type": "execute_result"
    }
   ],
   "source": [
    "# Chi-square test for time_of_day vs danceability\n",
    "chi = pd.crosstab(chi_df[\"moment_of_day\"], chi_df[\"track_danceability_bucket\"])\n",
    "_, p_val_dance, _, expected_dance   = chi2_contingency(chi, correction=True, lambda_=None)\n",
    "chi"
   ]
  },
  {
   "cell_type": "code",
   "execution_count": 66,
   "metadata": {},
   "outputs": [
    {
     "name": "stdout",
     "output_type": "stream",
     "text": [
      "The p-value obtained for this test is 3.3377e-04\n"
     ]
    }
   ],
   "source": [
    "print(\"The p-value obtained for this test is {:2.4e}\".format(p_val_dance))"
   ]
  },
  {
   "cell_type": "code",
   "execution_count": 67,
   "metadata": {},
   "outputs": [
    {
     "data": {
      "text/html": [
       "<div>\n",
       "<style scoped>\n",
       "    .dataframe tbody tr th:only-of-type {\n",
       "        vertical-align: middle;\n",
       "    }\n",
       "\n",
       "    .dataframe tbody tr th {\n",
       "        vertical-align: top;\n",
       "    }\n",
       "\n",
       "    .dataframe thead th {\n",
       "        text-align: right;\n",
       "    }\n",
       "</style>\n",
       "<table border=\"1\" class=\"dataframe\">\n",
       "  <thead>\n",
       "    <tr style=\"text-align: right;\">\n",
       "      <th>track_danceability_bucket</th>\n",
       "      <th>no-dance</th>\n",
       "      <th>yes-dance</th>\n",
       "    </tr>\n",
       "    <tr>\n",
       "      <th>moment_of_week</th>\n",
       "      <th></th>\n",
       "      <th></th>\n",
       "    </tr>\n",
       "  </thead>\n",
       "  <tbody>\n",
       "    <tr>\n",
       "      <th>weekday_afternoon_to_evening</th>\n",
       "      <td>13330</td>\n",
       "      <td>181040</td>\n",
       "    </tr>\n",
       "    <tr>\n",
       "      <th>weekday_late_night</th>\n",
       "      <td>12805</td>\n",
       "      <td>183666</td>\n",
       "    </tr>\n",
       "    <tr>\n",
       "      <th>weekday_morning</th>\n",
       "      <td>39365</td>\n",
       "      <td>559451</td>\n",
       "    </tr>\n",
       "    <tr>\n",
       "      <th>weekend_afternoon_evening</th>\n",
       "      <td>9554</td>\n",
       "      <td>140587</td>\n",
       "    </tr>\n",
       "    <tr>\n",
       "      <th>weekend_late_night</th>\n",
       "      <td>6301</td>\n",
       "      <td>87876</td>\n",
       "    </tr>\n",
       "    <tr>\n",
       "      <th>weekend_morning</th>\n",
       "      <td>25962</td>\n",
       "      <td>386632</td>\n",
       "    </tr>\n",
       "  </tbody>\n",
       "</table>\n",
       "</div>"
      ],
      "text/plain": [
       "track_danceability_bucket     no-dance  yes-dance\n",
       "moment_of_week                                   \n",
       "weekday_afternoon_to_evening     13330     181040\n",
       "weekday_late_night               12805     183666\n",
       "weekday_morning                  39365     559451\n",
       "weekend_afternoon_evening         9554     140587\n",
       "weekend_late_night                6301      87876\n",
       "weekend_morning                  25962     386632"
      ]
     },
     "execution_count": 67,
     "metadata": {},
     "output_type": "execute_result"
    }
   ],
   "source": [
    "# Chi-square test for time_of_day (week) vs danceability\n",
    "chi = pd.crosstab(chi_df[\"moment_of_week\"], chi_df[\"track_danceability_bucket\"])\n",
    "_, p_val_dance, _, expected_dance   = chi2_contingency(chi, correction=True, lambda_=None)\n",
    "chi"
   ]
  },
  {
   "cell_type": "code",
   "execution_count": 68,
   "metadata": {},
   "outputs": [
    {
     "name": "stdout",
     "output_type": "stream",
     "text": [
      "The p-value obtained for this test is 7.8304e-17\n"
     ]
    }
   ],
   "source": [
    "print(\"The p-value obtained for this test is {:2.4e}\".format(p_val_dance))"
   ]
  },
  {
   "cell_type": "markdown",
   "metadata": {},
   "source": [
    "**Again the p-value is small, so this two features are also not independent.** As we see, the p-value of the chi-square test decreases when we incorporate the weekday and weekend differentiation into the analysis. Intuitively, this is explained by the nature of the activities that are performed during the weekend. "
   ]
  },
  {
   "cell_type": "markdown",
   "metadata": {},
   "source": [
    "---"
   ]
  },
  {
   "cell_type": "markdown",
   "metadata": {},
   "source": [
    "## Approach: how can we incorporate time awareness and audio features into recommendations?"
   ]
  },
  {
   "cell_type": "markdown",
   "metadata": {},
   "source": [
    "**The approach we followed for incorporating time awareness and audio features into our recommendations is a two step approach**; first we run the models that were created in the first part of the project for each time split and then, on an independent exercise, we run a classifier based on our audio features. **In terms of time, we simply preprocess the data into the different time buckets before running our models**. We tried other approaches, however, this yielded the best results (or at least _a_ result that ran on our computers). **In terms of the audio features, we trained different classifiers in order to get two main insights**. First, which are the audio features that discriminated our users best and, second, what are the biases in our data. In terms of the structure of the section, as a first subsection, we show the results of performing a time preprocessing filtering before running our models and our why we followed this approach. Then, in a second subsection, we also specify the components of our features classifier and its results."
   ]
  },
  {
   "cell_type": "markdown",
   "metadata": {},
   "source": [
    "### Time Aware Model"
   ]
  },
  {
   "cell_type": "markdown",
   "metadata": {},
   "source": [
    "**When dealing with time, the most _popular_ model seems to be `time SVD++`. However, this model uses time with a different purpose than us.** By making the user and item biases a function of time, `SVD++` aims to understand how these biases change throughout time, say months and years. This is not the objective that we have in mind (actually, we only have a month of data). What we intend to model is how to best recommend, within the same day, according to time context that a user is currently in.\n",
    "\n",
    "**In order to manage this different objective, as seen in class, the literature has some approaches but they are too complex to implement.** For example, the _Neural Survival Recommender_ paper by How Jing and Alexander Smola proposes a \"Just-In-Time\" approach but requires training RNNs and also demands some derivation of formulas. **Hence, in order to get a first approximation of what we wanted, we focused on a preprocessing technique.**"
   ]
  },
  {
   "cell_type": "markdown",
   "metadata": {},
   "source": [
    "**The preprocessing steps are the following.** First, we segmented our data set into the splits dictated by the time of day buckets. Then we run a separate model in each time of the day and, therefore, generated a recommendation for each (user, time) pairing. **We created the `ContextLF` class to implement this.** The class takes as input the data from the `Pipeline` class. Then it trains one latent factor model for each context variable and one general model that ignores the time context. The function `model.fit()` returns the latent factor vectors U (user) and V (items) for each context. \n",
    "\n",
    "The data fed in the model consists out of the Deezer Dataset and additional data we collected with a survey. **This survey data includes the preferences of 30 of our close friends, which we used to asses the quality of our predictions.** The `'train_survey.csv'` data is obtained by concatenating the online survey data with the Deezer Data. "
   ]
  },
  {
   "cell_type": "code",
   "execution_count": 19,
   "metadata": {},
   "outputs": [
    {
     "name": "stdout",
     "output_type": "stream",
     "text": [
      "========== DATASET DESCRIPTION ==========\n",
      ">>> Shape: (2480191, 56)\n",
      ">>> Unique users: 18847\n",
      ">>> Unique songs: 4133\n",
      "=========================================\n",
      "Running time: 194 seconds\n"
     ]
    }
   ],
   "source": [
    "# Load data for the model \n",
    "pipe = Pipeline('data/train_survey.csv',\n",
    "                'SpotifyAudioFeatures_raw.csv',user_thres=10,item_thres=10000)\n",
    "data = pipe.make()"
   ]
  },
  {
   "cell_type": "code",
   "execution_count": 31,
   "metadata": {},
   "outputs": [
    {
     "name": "stdout",
     "output_type": "stream",
     "text": [
      "Model for context: morning\n",
      "Loss on iteration 0: 182782.273567\n",
      "Model for context: late_night\n",
      "Loss on iteration 0: 63845.0501602\n",
      "Model for context: afternoon_evening\n",
      "Loss on iteration 0: 72118.1345217\n",
      "Model for context: no_context\n",
      "Loss on iteration 0: 272971.753562\n"
     ]
    }
   ],
   "source": [
    "# Run IBCF model for each time of the day / moment of the week and report the results\n",
    "Model = ContextLF(data)\n",
    "Model.fit(converg=5000, verbose=True)"
   ]
  },
  {
   "cell_type": "markdown",
   "metadata": {},
   "source": [
    "In the next section we discuss in depth the results that we obtain from this model. **Again, to re-emphasize, we are trying to come up with (user, time) predictions** since the data showed that the time of the day dictated different listening patterns; **thus, we accept a loss in accuracy as long as the recommendation show up to be different (which they did).** We hypothesize that by making different time profiles of the same user, we are able to infer recommendations from users that, without the time split, would not have been as \"close\" in the latent space to our user.\n",
    "\n",
    "**The main two reasons why we followed this approach are: (1) scalability and (2) results**; in other words it accomplished what we intended, different top recommendatios for (user, time) pairings. In terms of scalability, at first we tried running different neighborhood models with time as a variable, however, our computers were not able to go above sample sizes as the ones that we used for the first part of the project. **Hence we saw the necessity of actually splitting this problem into pieces, rather than merging it into a bigger problem.** Then we switched to matrix factorization, which eventually converged. On the second point, we did get different results that did not sacrifice MSE as much. We were afraid that the same list of top recommendation would be output for each time period, but this was not the case. **Again, we believe that this is just a mere reflection of what we saw in the analysis of user-time listening patterns in the first section.**"
   ]
  },
  {
   "cell_type": "markdown",
   "metadata": {},
   "source": [
    "### Audio Features Classifier"
   ]
  },
  {
   "cell_type": "markdown",
   "metadata": {},
   "source": [
    "**To understand which features were the best in predicting that a song will be listened by a user we created a class named `CrossFeaturesModel`.** This class allows us to play with two important components efficiently. It first gives us the flexibility of defining which features and cross-features the model should use and, secondly, it allows us to run different classifiers (i.e. Random Forrest, Logistic Regression, etc). In the next section we discuss how this classifier was validated and hyper-tuned. But for this section we will discuss the rational of the features and cross-features that we selected as well as the insights that it gave us. \n",
    "\n",
    "**Also, we add this classifier as a side component of our recommender system in order to address the cold-start problem (both for users and songs).** We say that because if, for example, a certain genre is weighted more by a certain age bucket, then, when introducing a song we would mostly focus on that subset. With users this is a little trickier, nonetheless, we saw that a strong classifier in our data was french rap music. Therefore, there is a biased of the Deezer users to like rap music (Nekfeu, Ninho, Timal, Jul,...), hence a first bet again would be to start with these recommendations."
   ]
  },
  {
   "cell_type": "markdown",
   "metadata": {},
   "source": [
    "We first load the data that we wish to run our classifier on. Due to our limiting computing resources (personal computers), we restrict to a sample of the entire data set. _For running the whole model the second data files needs to be uncommented, however it takes hours to run the model, hence we add the results in a final plot_."
   ]
  },
  {
   "cell_type": "code",
   "execution_count": 14,
   "metadata": {},
   "outputs": [
    {
     "name": "stdout",
     "output_type": "stream",
     "text": [
      "========== DATASET DESCRIPTION ==========\n",
      ">>> Shape: (529, 57)\n",
      ">>> Unique users: 524\n",
      ">>> Unique songs: 4924\n",
      "=========================================\n",
      "Running time: 0 seconds\n"
     ]
    }
   ],
   "source": [
    "data_file = \"db_nrows.csv\"\n",
    "# data_file = \"train_sample.csv\"\n",
    "sample_path = \"train_sample.csv\"\n",
    "pipe = Pipeline(deezer_path=data_file,\n",
    "                spotify_path=spotify_file,\n",
    "                sample_path=sample_path,\n",
    "                use_sample=False)\n",
    "data = pipe.make()"
   ]
  },
  {
   "cell_type": "markdown",
   "metadata": {},
   "source": [
    "Then we select the features to include into the model and, with the use of the class `Vectorizer`, we generate the cross-features."
   ]
  },
  {
   "cell_type": "code",
   "execution_count": 15,
   "metadata": {
    "collapsed": true
   },
   "outputs": [],
   "source": [
    "# Columns to drop in the train set\n",
    "to_drop = ['ts_listen', 'context_type', 'release_date', \n",
    "           'platform_name', 'platform_family', 'media_duration',\n",
    "           'listen_type', 'user_id', 'Unnamed: 0', 'acousticness', 'danceability',\n",
    "           'deezer_artist', 'deezer_bpm', 'deezer_name', 'duration_ms', 'energy',\n",
    "           'id', 'instrumentalness', 'key', 'liveness', 'loudness', 'mode',\n",
    "           'speechiness', 'spotify_album_name', 'spotify_artist', 'spotify_name',\n",
    "           'tempo', 'time_signature', 'type', 'uri', 'valence', 'converted_ts',\n",
    "           'year_listen', 'month_listen', 'day_listen', 'hour_listen',\n",
    "           'year_release', 'month_release', 'day_release', 'user_age', \n",
    "           'is_listened', 'Unnamed: 0_x', 'Unnamed: 0_y']"
   ]
  },
  {
   "cell_type": "code",
   "execution_count": 16,
   "metadata": {},
   "outputs": [
    {
     "data": {
      "text/plain": [
       "Index(['genre_id', 'media_id', 'album_id', 'user_gender', 'artist_id',\n",
       "       'moment_of_week', 'moment_of_day', 'track_tempo_bucket',\n",
       "       'track_age_bucket', 'track_duration_bucket', 'user_age_bucket',\n",
       "       'track_energy_bucket', 'track_valence_bucket',\n",
       "       'track_speechiness_bucket', 'track_danceability_bucket'],\n",
       "      dtype='object')"
      ]
     },
     "execution_count": 16,
     "metadata": {},
     "output_type": "execute_result"
    }
   ],
   "source": [
    "# Standard classification framework: X = training set, y = target classes\n",
    "X = data[[col for col in data.columns if col not in to_drop]]; y = data.is_listened\n",
    "X.columns"
   ]
  },
  {
   "cell_type": "code",
   "execution_count": 17,
   "metadata": {},
   "outputs": [
    {
     "name": "stdout",
     "output_type": "stream",
     "text": [
      "CPU times: user 12 ms, sys: 0 ns, total: 12 ms\n",
      "Wall time: 10.1 ms\n"
     ]
    },
    {
     "data": {
      "text/html": [
       "<div>\n",
       "<style scoped>\n",
       "    .dataframe tbody tr th:only-of-type {\n",
       "        vertical-align: middle;\n",
       "    }\n",
       "\n",
       "    .dataframe tbody tr th {\n",
       "        vertical-align: top;\n",
       "    }\n",
       "\n",
       "    .dataframe thead th {\n",
       "        text-align: right;\n",
       "    }\n",
       "</style>\n",
       "<table border=\"1\" class=\"dataframe\">\n",
       "  <thead>\n",
       "    <tr style=\"text-align: right;\">\n",
       "      <th></th>\n",
       "      <th>genre_id</th>\n",
       "      <th>media_id</th>\n",
       "      <th>album_id</th>\n",
       "      <th>user_gender</th>\n",
       "      <th>artist_id</th>\n",
       "      <th>moment_of_week</th>\n",
       "      <th>moment_of_day</th>\n",
       "      <th>track_tempo_bucket</th>\n",
       "      <th>track_age_bucket</th>\n",
       "      <th>track_duration_bucket</th>\n",
       "      <th>...</th>\n",
       "      <th>track_danceability_bucket</th>\n",
       "      <th>genre_id&amp;moment_of_week</th>\n",
       "      <th>genre_id&amp;user_gender</th>\n",
       "      <th>artist_id&amp;user_gender</th>\n",
       "      <th>user_age_bucket&amp;track_age_bucket</th>\n",
       "      <th>user_age_bucket&amp;track_valence_bucket</th>\n",
       "      <th>track_danceability_bucket&amp;moment_of_week</th>\n",
       "      <th>track_speechiness_bucket&amp;moment_of_week</th>\n",
       "      <th>track_energy_bucket&amp;moment_of_week</th>\n",
       "      <th>track_tempo_bucket&amp;moment_of_week</th>\n",
       "    </tr>\n",
       "  </thead>\n",
       "  <tbody>\n",
       "    <tr>\n",
       "      <th>0</th>\n",
       "      <td>2744</td>\n",
       "      <td>876497</td>\n",
       "      <td>99692</td>\n",
       "      <td>1</td>\n",
       "      <td>26</td>\n",
       "      <td>weekend_late_night</td>\n",
       "      <td>late_night</td>\n",
       "      <td>moderate</td>\n",
       "      <td>80s</td>\n",
       "      <td>long_duration</td>\n",
       "      <td>...</td>\n",
       "      <td>yes-dance</td>\n",
       "      <td>2744&amp;weekend_late_night</td>\n",
       "      <td>2744&amp;1</td>\n",
       "      <td>26&amp;1</td>\n",
       "      <td>[22-25]&amp;80s</td>\n",
       "      <td>[22-25]&amp;positive</td>\n",
       "      <td>yes-dance&amp;weekend_late_night</td>\n",
       "      <td>low-speech&amp;weekend_late_night</td>\n",
       "      <td>med&amp;weekend_late_night</td>\n",
       "      <td>moderate&amp;weekend_late_night</td>\n",
       "    </tr>\n",
       "    <tr>\n",
       "      <th>1</th>\n",
       "      <td>2744</td>\n",
       "      <td>876498</td>\n",
       "      <td>99692</td>\n",
       "      <td>0</td>\n",
       "      <td>26</td>\n",
       "      <td>weekend_morning</td>\n",
       "      <td>morning</td>\n",
       "      <td>very_fast</td>\n",
       "      <td>80s</td>\n",
       "      <td>medium_duration</td>\n",
       "      <td>...</td>\n",
       "      <td>yes-dance</td>\n",
       "      <td>2744&amp;weekend_morning</td>\n",
       "      <td>2744&amp;0</td>\n",
       "      <td>26&amp;0</td>\n",
       "      <td>[26-30]&amp;80s</td>\n",
       "      <td>[26-30]&amp;positive</td>\n",
       "      <td>yes-dance&amp;weekend_morning</td>\n",
       "      <td>low-speech&amp;weekend_morning</td>\n",
       "      <td>high&amp;weekend_morning</td>\n",
       "      <td>very_fast&amp;weekend_morning</td>\n",
       "    </tr>\n",
       "    <tr>\n",
       "      <th>2</th>\n",
       "      <td>2744</td>\n",
       "      <td>876498</td>\n",
       "      <td>99692</td>\n",
       "      <td>1</td>\n",
       "      <td>26</td>\n",
       "      <td>weekend_morning</td>\n",
       "      <td>morning</td>\n",
       "      <td>very_fast</td>\n",
       "      <td>80s</td>\n",
       "      <td>medium_duration</td>\n",
       "      <td>...</td>\n",
       "      <td>yes-dance</td>\n",
       "      <td>2744&amp;weekend_morning</td>\n",
       "      <td>2744&amp;1</td>\n",
       "      <td>26&amp;1</td>\n",
       "      <td>[26-30]&amp;80s</td>\n",
       "      <td>[26-30]&amp;positive</td>\n",
       "      <td>yes-dance&amp;weekend_morning</td>\n",
       "      <td>low-speech&amp;weekend_morning</td>\n",
       "      <td>high&amp;weekend_morning</td>\n",
       "      <td>very_fast&amp;weekend_morning</td>\n",
       "    </tr>\n",
       "    <tr>\n",
       "      <th>3</th>\n",
       "      <td>2744</td>\n",
       "      <td>876498</td>\n",
       "      <td>99692</td>\n",
       "      <td>0</td>\n",
       "      <td>26</td>\n",
       "      <td>weekend_late_night</td>\n",
       "      <td>late_night</td>\n",
       "      <td>very_fast</td>\n",
       "      <td>80s</td>\n",
       "      <td>medium_duration</td>\n",
       "      <td>...</td>\n",
       "      <td>yes-dance</td>\n",
       "      <td>2744&amp;weekend_late_night</td>\n",
       "      <td>2744&amp;0</td>\n",
       "      <td>26&amp;0</td>\n",
       "      <td>[26-30]&amp;80s</td>\n",
       "      <td>[26-30]&amp;positive</td>\n",
       "      <td>yes-dance&amp;weekend_late_night</td>\n",
       "      <td>low-speech&amp;weekend_late_night</td>\n",
       "      <td>high&amp;weekend_late_night</td>\n",
       "      <td>very_fast&amp;weekend_late_night</td>\n",
       "    </tr>\n",
       "    <tr>\n",
       "      <th>4</th>\n",
       "      <td>2744</td>\n",
       "      <td>876498</td>\n",
       "      <td>99692</td>\n",
       "      <td>0</td>\n",
       "      <td>26</td>\n",
       "      <td>weekend_morning</td>\n",
       "      <td>morning</td>\n",
       "      <td>very_fast</td>\n",
       "      <td>80s</td>\n",
       "      <td>medium_duration</td>\n",
       "      <td>...</td>\n",
       "      <td>yes-dance</td>\n",
       "      <td>2744&amp;weekend_morning</td>\n",
       "      <td>2744&amp;0</td>\n",
       "      <td>26&amp;0</td>\n",
       "      <td>[26-30]&amp;80s</td>\n",
       "      <td>[26-30]&amp;positive</td>\n",
       "      <td>yes-dance&amp;weekend_morning</td>\n",
       "      <td>low-speech&amp;weekend_morning</td>\n",
       "      <td>high&amp;weekend_morning</td>\n",
       "      <td>very_fast&amp;weekend_morning</td>\n",
       "    </tr>\n",
       "  </tbody>\n",
       "</table>\n",
       "<p>5 rows × 24 columns</p>\n",
       "</div>"
      ],
      "text/plain": [
       "   genre_id media_id  album_id  user_gender  artist_id      moment_of_week  \\\n",
       "0      2744   876497     99692            1         26  weekend_late_night   \n",
       "1      2744   876498     99692            0         26     weekend_morning   \n",
       "2      2744   876498     99692            1         26     weekend_morning   \n",
       "3      2744   876498     99692            0         26  weekend_late_night   \n",
       "4      2744   876498     99692            0         26     weekend_morning   \n",
       "\n",
       "  moment_of_day track_tempo_bucket track_age_bucket track_duration_bucket  \\\n",
       "0    late_night           moderate              80s         long_duration   \n",
       "1       morning          very_fast              80s       medium_duration   \n",
       "2       morning          very_fast              80s       medium_duration   \n",
       "3    late_night          very_fast              80s       medium_duration   \n",
       "4       morning          very_fast              80s       medium_duration   \n",
       "\n",
       "                 ...                track_danceability_bucket  \\\n",
       "0                ...                                yes-dance   \n",
       "1                ...                                yes-dance   \n",
       "2                ...                                yes-dance   \n",
       "3                ...                                yes-dance   \n",
       "4                ...                                yes-dance   \n",
       "\n",
       "   genre_id&moment_of_week genre_id&user_gender artist_id&user_gender  \\\n",
       "0  2744&weekend_late_night               2744&1                  26&1   \n",
       "1     2744&weekend_morning               2744&0                  26&0   \n",
       "2     2744&weekend_morning               2744&1                  26&1   \n",
       "3  2744&weekend_late_night               2744&0                  26&0   \n",
       "4     2744&weekend_morning               2744&0                  26&0   \n",
       "\n",
       "  user_age_bucket&track_age_bucket user_age_bucket&track_valence_bucket  \\\n",
       "0                      [22-25]&80s                     [22-25]&positive   \n",
       "1                      [26-30]&80s                     [26-30]&positive   \n",
       "2                      [26-30]&80s                     [26-30]&positive   \n",
       "3                      [26-30]&80s                     [26-30]&positive   \n",
       "4                      [26-30]&80s                     [26-30]&positive   \n",
       "\n",
       "  track_danceability_bucket&moment_of_week  \\\n",
       "0             yes-dance&weekend_late_night   \n",
       "1                yes-dance&weekend_morning   \n",
       "2                yes-dance&weekend_morning   \n",
       "3             yes-dance&weekend_late_night   \n",
       "4                yes-dance&weekend_morning   \n",
       "\n",
       "  track_speechiness_bucket&moment_of_week track_energy_bucket&moment_of_week  \\\n",
       "0           low-speech&weekend_late_night             med&weekend_late_night   \n",
       "1              low-speech&weekend_morning               high&weekend_morning   \n",
       "2              low-speech&weekend_morning               high&weekend_morning   \n",
       "3           low-speech&weekend_late_night            high&weekend_late_night   \n",
       "4              low-speech&weekend_morning               high&weekend_morning   \n",
       "\n",
       "  track_tempo_bucket&moment_of_week  \n",
       "0       moderate&weekend_late_night  \n",
       "1         very_fast&weekend_morning  \n",
       "2         very_fast&weekend_morning  \n",
       "3      very_fast&weekend_late_night  \n",
       "4         very_fast&weekend_morning  \n",
       "\n",
       "[5 rows x 24 columns]"
      ]
     },
     "execution_count": 17,
     "metadata": {},
     "output_type": "execute_result"
    }
   ],
   "source": [
    "# We create 9 cross features and then let the class Vectorizer modify the data\n",
    "transforms = [(\"genre_id\", \"moment_of_week\", \"&\"),\n",
    "              (\"genre_id\", \"user_gender\", \"&\"),\n",
    "              (\"artist_id\", \"user_gender\", \"&\"),\n",
    "              (\"user_age_bucket\", \"track_age_bucket\", \"&\"),\n",
    "              (\"user_age_bucket\", \"track_valence_bucket\", \"&\"),\n",
    "              (\"track_danceability_bucket\", \"moment_of_week\", \"&\"),\n",
    "              (\"track_speechiness_bucket\", \"moment_of_week\", \"&\"),\n",
    "              (\"track_energy_bucket\", \"moment_of_week\", \"&\"),\n",
    "              (\"track_tempo_bucket\", \"moment_of_week\", \"&\")\n",
    "              ]\n",
    "vect = Vectorizer(transforms)\n",
    "X.is_copy = False  # avoid indexing mistake notification\n",
    "%time vect.fit_transform(X, transforms)\n",
    "X.head()"
   ]
  },
  {
   "cell_type": "markdown",
   "metadata": {},
   "source": [
    "At the end, the last column display the cross-features that were incorporated. To run the classifier we do one hot encoding per each column."
   ]
  },
  {
   "cell_type": "code",
   "execution_count": 18,
   "metadata": {},
   "outputs": [
    {
     "data": {
      "text/html": [
       "<div>\n",
       "<style scoped>\n",
       "    .dataframe tbody tr th:only-of-type {\n",
       "        vertical-align: middle;\n",
       "    }\n",
       "\n",
       "    .dataframe tbody tr th {\n",
       "        vertical-align: top;\n",
       "    }\n",
       "\n",
       "    .dataframe thead th {\n",
       "        text-align: right;\n",
       "    }\n",
       "</style>\n",
       "<table border=\"1\" class=\"dataframe\">\n",
       "  <thead>\n",
       "    <tr style=\"text-align: right;\">\n",
       "      <th></th>\n",
       "      <th>genre_id</th>\n",
       "      <th>album_id</th>\n",
       "      <th>user_gender</th>\n",
       "      <th>artist_id</th>\n",
       "      <th>media_id_876497</th>\n",
       "      <th>media_id_876498</th>\n",
       "      <th>media_id_876500</th>\n",
       "      <th>moment_of_week_weekday_afternoon_to_evening</th>\n",
       "      <th>moment_of_week_weekday_late_night</th>\n",
       "      <th>moment_of_week_weekday_morning</th>\n",
       "      <th>...</th>\n",
       "      <th>track_tempo_bucket&amp;moment_of_week_moderate&amp;weekday_morning</th>\n",
       "      <th>track_tempo_bucket&amp;moment_of_week_moderate&amp;weekend_afternoon_evening</th>\n",
       "      <th>track_tempo_bucket&amp;moment_of_week_moderate&amp;weekend_late_night</th>\n",
       "      <th>track_tempo_bucket&amp;moment_of_week_moderate&amp;weekend_morning</th>\n",
       "      <th>track_tempo_bucket&amp;moment_of_week_very_fast&amp;weekday_afternoon_to_evening</th>\n",
       "      <th>track_tempo_bucket&amp;moment_of_week_very_fast&amp;weekday_late_night</th>\n",
       "      <th>track_tempo_bucket&amp;moment_of_week_very_fast&amp;weekday_morning</th>\n",
       "      <th>track_tempo_bucket&amp;moment_of_week_very_fast&amp;weekend_afternoon_evening</th>\n",
       "      <th>track_tempo_bucket&amp;moment_of_week_very_fast&amp;weekend_late_night</th>\n",
       "      <th>track_tempo_bucket&amp;moment_of_week_very_fast&amp;weekend_morning</th>\n",
       "    </tr>\n",
       "  </thead>\n",
       "  <tbody>\n",
       "    <tr>\n",
       "      <th>0</th>\n",
       "      <td>2744</td>\n",
       "      <td>99692</td>\n",
       "      <td>1</td>\n",
       "      <td>26</td>\n",
       "      <td>1</td>\n",
       "      <td>0</td>\n",
       "      <td>0</td>\n",
       "      <td>0</td>\n",
       "      <td>0</td>\n",
       "      <td>0</td>\n",
       "      <td>...</td>\n",
       "      <td>0</td>\n",
       "      <td>0</td>\n",
       "      <td>1</td>\n",
       "      <td>0</td>\n",
       "      <td>0</td>\n",
       "      <td>0</td>\n",
       "      <td>0</td>\n",
       "      <td>0</td>\n",
       "      <td>0</td>\n",
       "      <td>0</td>\n",
       "    </tr>\n",
       "    <tr>\n",
       "      <th>1</th>\n",
       "      <td>2744</td>\n",
       "      <td>99692</td>\n",
       "      <td>0</td>\n",
       "      <td>26</td>\n",
       "      <td>0</td>\n",
       "      <td>1</td>\n",
       "      <td>0</td>\n",
       "      <td>0</td>\n",
       "      <td>0</td>\n",
       "      <td>0</td>\n",
       "      <td>...</td>\n",
       "      <td>0</td>\n",
       "      <td>0</td>\n",
       "      <td>0</td>\n",
       "      <td>0</td>\n",
       "      <td>0</td>\n",
       "      <td>0</td>\n",
       "      <td>0</td>\n",
       "      <td>0</td>\n",
       "      <td>0</td>\n",
       "      <td>1</td>\n",
       "    </tr>\n",
       "    <tr>\n",
       "      <th>2</th>\n",
       "      <td>2744</td>\n",
       "      <td>99692</td>\n",
       "      <td>1</td>\n",
       "      <td>26</td>\n",
       "      <td>0</td>\n",
       "      <td>1</td>\n",
       "      <td>0</td>\n",
       "      <td>0</td>\n",
       "      <td>0</td>\n",
       "      <td>0</td>\n",
       "      <td>...</td>\n",
       "      <td>0</td>\n",
       "      <td>0</td>\n",
       "      <td>0</td>\n",
       "      <td>0</td>\n",
       "      <td>0</td>\n",
       "      <td>0</td>\n",
       "      <td>0</td>\n",
       "      <td>0</td>\n",
       "      <td>0</td>\n",
       "      <td>1</td>\n",
       "    </tr>\n",
       "    <tr>\n",
       "      <th>3</th>\n",
       "      <td>2744</td>\n",
       "      <td>99692</td>\n",
       "      <td>0</td>\n",
       "      <td>26</td>\n",
       "      <td>0</td>\n",
       "      <td>1</td>\n",
       "      <td>0</td>\n",
       "      <td>0</td>\n",
       "      <td>0</td>\n",
       "      <td>0</td>\n",
       "      <td>...</td>\n",
       "      <td>0</td>\n",
       "      <td>0</td>\n",
       "      <td>0</td>\n",
       "      <td>0</td>\n",
       "      <td>0</td>\n",
       "      <td>0</td>\n",
       "      <td>0</td>\n",
       "      <td>0</td>\n",
       "      <td>1</td>\n",
       "      <td>0</td>\n",
       "    </tr>\n",
       "    <tr>\n",
       "      <th>4</th>\n",
       "      <td>2744</td>\n",
       "      <td>99692</td>\n",
       "      <td>0</td>\n",
       "      <td>26</td>\n",
       "      <td>0</td>\n",
       "      <td>1</td>\n",
       "      <td>0</td>\n",
       "      <td>0</td>\n",
       "      <td>0</td>\n",
       "      <td>0</td>\n",
       "      <td>...</td>\n",
       "      <td>0</td>\n",
       "      <td>0</td>\n",
       "      <td>0</td>\n",
       "      <td>0</td>\n",
       "      <td>0</td>\n",
       "      <td>0</td>\n",
       "      <td>0</td>\n",
       "      <td>0</td>\n",
       "      <td>0</td>\n",
       "      <td>1</td>\n",
       "    </tr>\n",
       "  </tbody>\n",
       "</table>\n",
       "<p>5 rows × 88 columns</p>\n",
       "</div>"
      ],
      "text/plain": [
       "   genre_id  album_id  user_gender  artist_id  media_id_876497  \\\n",
       "0      2744     99692            1         26                1   \n",
       "1      2744     99692            0         26                0   \n",
       "2      2744     99692            1         26                0   \n",
       "3      2744     99692            0         26                0   \n",
       "4      2744     99692            0         26                0   \n",
       "\n",
       "   media_id_876498  media_id_876500  \\\n",
       "0                0                0   \n",
       "1                1                0   \n",
       "2                1                0   \n",
       "3                1                0   \n",
       "4                1                0   \n",
       "\n",
       "   moment_of_week_weekday_afternoon_to_evening  \\\n",
       "0                                            0   \n",
       "1                                            0   \n",
       "2                                            0   \n",
       "3                                            0   \n",
       "4                                            0   \n",
       "\n",
       "   moment_of_week_weekday_late_night  moment_of_week_weekday_morning  \\\n",
       "0                                  0                               0   \n",
       "1                                  0                               0   \n",
       "2                                  0                               0   \n",
       "3                                  0                               0   \n",
       "4                                  0                               0   \n",
       "\n",
       "                              ...                               \\\n",
       "0                             ...                                \n",
       "1                             ...                                \n",
       "2                             ...                                \n",
       "3                             ...                                \n",
       "4                             ...                                \n",
       "\n",
       "   track_tempo_bucket&moment_of_week_moderate&weekday_morning  \\\n",
       "0                                                  0            \n",
       "1                                                  0            \n",
       "2                                                  0            \n",
       "3                                                  0            \n",
       "4                                                  0            \n",
       "\n",
       "   track_tempo_bucket&moment_of_week_moderate&weekend_afternoon_evening  \\\n",
       "0                                                  0                      \n",
       "1                                                  0                      \n",
       "2                                                  0                      \n",
       "3                                                  0                      \n",
       "4                                                  0                      \n",
       "\n",
       "   track_tempo_bucket&moment_of_week_moderate&weekend_late_night  \\\n",
       "0                                                  1               \n",
       "1                                                  0               \n",
       "2                                                  0               \n",
       "3                                                  0               \n",
       "4                                                  0               \n",
       "\n",
       "   track_tempo_bucket&moment_of_week_moderate&weekend_morning  \\\n",
       "0                                                  0            \n",
       "1                                                  0            \n",
       "2                                                  0            \n",
       "3                                                  0            \n",
       "4                                                  0            \n",
       "\n",
       "   track_tempo_bucket&moment_of_week_very_fast&weekday_afternoon_to_evening  \\\n",
       "0                                                  0                          \n",
       "1                                                  0                          \n",
       "2                                                  0                          \n",
       "3                                                  0                          \n",
       "4                                                  0                          \n",
       "\n",
       "   track_tempo_bucket&moment_of_week_very_fast&weekday_late_night  \\\n",
       "0                                                  0                \n",
       "1                                                  0                \n",
       "2                                                  0                \n",
       "3                                                  0                \n",
       "4                                                  0                \n",
       "\n",
       "   track_tempo_bucket&moment_of_week_very_fast&weekday_morning  \\\n",
       "0                                                  0             \n",
       "1                                                  0             \n",
       "2                                                  0             \n",
       "3                                                  0             \n",
       "4                                                  0             \n",
       "\n",
       "   track_tempo_bucket&moment_of_week_very_fast&weekend_afternoon_evening  \\\n",
       "0                                                  0                       \n",
       "1                                                  0                       \n",
       "2                                                  0                       \n",
       "3                                                  0                       \n",
       "4                                                  0                       \n",
       "\n",
       "   track_tempo_bucket&moment_of_week_very_fast&weekend_late_night  \\\n",
       "0                                                  0                \n",
       "1                                                  0                \n",
       "2                                                  0                \n",
       "3                                                  1                \n",
       "4                                                  0                \n",
       "\n",
       "   track_tempo_bucket&moment_of_week_very_fast&weekend_morning  \n",
       "0                                                  0            \n",
       "1                                                  1            \n",
       "2                                                  1            \n",
       "3                                                  0            \n",
       "4                                                  1            \n",
       "\n",
       "[5 rows x 88 columns]"
      ]
     },
     "execution_count": 18,
     "metadata": {},
     "output_type": "execute_result"
    }
   ],
   "source": [
    "X_dummies = pd.get_dummies(X); X_dummies.head()"
   ]
  },
  {
   "cell_type": "markdown",
   "metadata": {},
   "source": [
    "We now train the model with the classifier of our choice."
   ]
  },
  {
   "cell_type": "code",
   "execution_count": 19,
   "metadata": {},
   "outputs": [
    {
     "name": "stdout",
     "output_type": "stream",
     "text": [
      ">>> Model is training\n",
      ">>> Model is trained and ready to use!\n",
      "Run time: 3.9033925533294678 seconds\n"
     ]
    }
   ],
   "source": [
    "model = CrossFeaturesModel(data=X_dummies, target=y, estimator='logistic')\n",
    "model.train()"
   ]
  },
  {
   "cell_type": "markdown",
   "metadata": {},
   "source": [
    "**We found that the most interpretable results came from using a simple logistic classifier.** We are not surprise by this since, in essence, the logistic model was develop to perform similar tasks as the one at hand. At the end, since we have implicit data, we are trying to predict a binary random variable: either a user listens to a song (success) or not. Moreover, since the insights that we want to derive are what features help us predict the best, then need to do nothing more than analyze the weights that the logistic model assigns to each of the features. **Below is a plot of the most relevant weights.**"
   ]
  },
  {
   "cell_type": "code",
   "execution_count": 20,
   "metadata": {
    "collapsed": true
   },
   "outputs": [],
   "source": [
    "# Add plot from running the model not just on a sample\n",
    "# model.plot_important_features(top=10)"
   ]
  },
  {
   "cell_type": "markdown",
   "metadata": {},
   "source": [
    "<img src= \"./images/importance.png \">"
   ]
  },
  {
   "cell_type": "markdown",
   "metadata": {},
   "source": [
    "From the main 10 features that we see on the past plot, **we derived the following insights**:\n",
    "* **Eventhough strong french rap is listened frequently in the data set, it is not a good recommendation to make**. We hypothesize two reasons. One is that users that like this music do not want to have it as a recommendation, they are already into that; however, another user whom is distant to that genre might find this recommendation too aggressive. The direct implication for our recommender system is to filter out restrain the presence of this type of songs in our top-k lists.\n",
    "* **Genre and gender showed a connection**. Girls appear to have a biased towards french pop artists (like Marina Kaye) while they digressed from rap artists. This goes back to the previous point, if the recommender system does not put genre into the picture, then it is not surprising that women were prone to dislike explicit rap content. The implication for our recommender system is to select top items from genres that are more suitable to the genre at hand.\n",
    "* **Audio features by themselves say nothing**. This point was at first counterintuitive, but we have a belief of why this is the case. By itself, audio features are not what users choose to listen. It is not the case that a user says, \"I feel like listening to energetic music\", but rather that he feels like listening to certain songs. Thus, in this process of creating a list of songs to listen, the user might unintentionally add a less energetic song into the session. Even though it is the case that a Monday morning might contain more energetic songs (as we saw with the data analysis) this unintentional variation of the energy levels that the user introduces generates so much noise in the model that it is not able to discriminate by these features alone.\n",
    "\n",
    "_Note: the previous 3 points were made with a sample of the data. By incorporating the whole data set this could unfortunately changed. However, based on our domain knowledge, we do believe the previous insights could generalize_."
   ]
  },
  {
   "cell_type": "markdown",
   "metadata": {},
   "source": [
    "---"
   ]
  },
  {
   "cell_type": "markdown",
   "metadata": {},
   "source": [
    "## Validation: how were the hyperparameters tuned?"
   ]
  },
  {
   "cell_type": "markdown",
   "metadata": {},
   "source": [
    "**This section mainly discusses the validation of the Cross-Features classifier since the other model was validated in the first part of the project.** For this last one the exact same approach was followed; however we do show the results of this excercise"
   ]
  },
  {
   "cell_type": "markdown",
   "metadata": {},
   "source": [
    "### Time aware model validation: hyperparameters and survey user testing\n",
    "\n",
    "For evaluating the time aware model we used two approaches: we first calculated the model's accuracy and then got a qualitative feel of the output by the recommendations that we made to our close friends.\n",
    "\n",
    "##### Evaluate the model's accuracy\n",
    "\n",
    "**To evaluate the model for time of the day, we first looked at overall accuracy**. For every context we calculated the Absolute Mean Error and the Mean Squared Error. We can see that the MSE for any-time of the day is lower than for every. It should be noted, that usually a phase of hyperparameter tuning should follow - however due to the large data set and the resulting runtime, we were not able to do extensive hyperparameter tuning (Number of Latent factors, Regularization parameter). However, from the last project we knew that a model with latent_factors of 5 and regularization parameter of 1 performed best on the given dataset. Thus we decided to go with these parameters, without further exploring the parameter space.\n"
   ]
  },
  {
   "cell_type": "code",
   "execution_count": 32,
   "metadata": {},
   "outputs": [],
   "source": [
    "# Load training results (as the model took 12 hours to train,\n",
    "# we saved the results for U and V and load it here)\n",
    "t = 0\n",
    "for i in Model.context.tolist():\n",
    "    name1 = 'U_'+str(i)+'.csv'\n",
    "    name2 = 'V_'+str(i)+'.csv'\n",
    "    U = pd.read_csv(name1)\n",
    "    V = pd.read_csv(name2)\n",
    "    U.index = Model.U[t].index\n",
    "    U.columns = Model.U[t].columns\n",
    "    V.index = Model.V[t].index\n",
    "    V.columns = Model.V[t].columns\n",
    "    Model.U[t] = U\n",
    "    Model.V[t] = V\n",
    "    t += 1"
   ]
  },
  {
   "cell_type": "code",
   "execution_count": 11,
   "metadata": {},
   "outputs": [
    {
     "name": "stdout",
     "output_type": "stream",
     "text": [
      "For context: morning AME: 0.337878295466 MSE: 0.159564782442\n",
      "For context: late_night AME: 0.379839901011 MSE: 0.196984280216\n",
      "For context: afternoon_evening AME: 0.362722825614 MSE: 0.183865638052\n",
      "For context: no_context AME: 0.327084946073 MSE: 0.151121176189\n"
     ]
    }
   ],
   "source": [
    "# MSE and AME, per context (on the validation set)\n",
    "t = 0\n",
    "for i in Model.context.tolist():\n",
    "    Tester = ModelTester.ModelTester()\n",
    "    if i == 'no_context':\n",
    "        context_data = Model.data\n",
    "    else:\n",
    "        context_data = Model.data[Model.data['moment_of_day'] == i]\n",
    "    context_data = pd.pivot_table(context_data, columns='media_id',index='user_id',values='is_listened',aggfunc='mean')\n",
    "    \n",
    "    Tester.fit_transform(context_data, verbose=False)\n",
    "    predictions = pd.DataFrame(np.dot(Model.U[t],Model.V[t]))\n",
    "    predictions.columns = context_data.columns\n",
    "    predictions.index = context_data.index\n",
    "    ame = Tester.evaluate_valid(predictions,\n",
    "                                     loss_func=lf.absolute_mean_error,\n",
    "                                     verbose=False)\n",
    "    mse = Tester.evaluate_valid(predictions,\n",
    "                                     loss_func=lf.mean_squared_error,\n",
    "                                     verbose=False)\n",
    "    print('For context: '+str(i)+' AME: '+str(ame)+' MSE: '+str(mse))\n",
    "    t += 1"
   ]
  },
  {
   "cell_type": "markdown",
   "metadata": {},
   "source": [
    "**It can be seen that accuracy is better for the model without a context than for each context model**. We believe this is a result of the increased sparseness in the context matrices. **However, for a user the accuracy is not the most important metric** What matters is the quality of the top-k recommended items, which is not captured by the accuracy measures above and should be tested with the users directly; hence the main motiviation for our survey analysis. Also, another approach that we would like to try in the feature is be to test the accuracy of only the top-k recommendations in certain contexts."
   ]
  },
  {
   "cell_type": "code",
   "execution_count": 13,
   "metadata": {},
   "outputs": [
    {
     "name": "stdout",
     "output_type": "stream",
     "text": [
      "Context: morning\n",
      "    Shape (user,items): (12449, 4115)\n",
      "    Fill-Level: 0.00766098220228203\n",
      "==========================================\n",
      "Context: late_night\n",
      "    Shape (user,items): (7031, 3998)\n",
      "    Fill-Level: 0.004691223438486417\n",
      "==========================================\n",
      "Context: afternoon_evening\n",
      "    Shape (user,items): (7662, 4018)\n",
      "    Fill-Level: 0.004518267379148309\n",
      "==========================================\n",
      "Context: no_context\n",
      "    Shape (user,items): (14266, 4122)\n",
      "    Fill-Level: 0.009652891587187991\n",
      "==========================================\n"
     ]
    }
   ],
   "source": [
    "# check fill level for each context\n",
    "for i in Model.context.tolist():\n",
    "    Tester = ModelTester.ModelTester()\n",
    "    if i == 'no_context':\n",
    "        context_data = Model.data\n",
    "    else:\n",
    "        context_data = Model.data[Model.data['moment_of_day'] == i]\n",
    "    context_data = pd.pivot_table(context_data, columns='media_id',index='user_id',values='is_listened',aggfunc='mean')\n",
    "    a = context_data.shape\n",
    "    b = context_data.count().sum()/float((context_data.shape[0]*context_data.shape[1]))\n",
    "    print('Context: '+str(i))\n",
    "    print('    Shape (user,items): '+str(a))\n",
    "    print('    Fill-Level: '+str(b))\n",
    "    print('==========================================')"
   ]
  },
  {
   "cell_type": "markdown",
   "metadata": {},
   "source": [
    "### Survey Results"
   ]
  },
  {
   "cell_type": "markdown",
   "metadata": {},
   "source": [
    "**Accuracy might not be the most appropriate measure to evaluate the quality of a recommender system.** Thus we surveyed our close friends to gather their thoughts about our recommendations. The idea stems from the inherent difficulty in testing the accuracy of recommender systems. Testing against past ratings can only take one so far, we wanted to go one step ahead and see the recommendations that we were making and how people were reacting to the same. We queried the Deezer API to get the names of our songs. **We constructed the survey with 65 popular songs and asked our friends to rate the songs 1 if they liked it, 0 if they did not, and N/A if they had not heard the song.** Then, for the songs that the users had rated 1, we asked them about the time that they are most likely to listen to those songs. This was a very important step as we were making a time sensitive model and getting context information was very important.  Finally, we were successfully able to collect data for 30 users. \n",
    "\n",
    "**The next step in the process had a heavy data cleaning component**. Data found from surveys, in the open, is typically messy and is seldom in a form that can be directly used for the analysis. These steps included matching the songs names with the ‘unique_id’s’, formatting the time of day the song was listened to and removing redundancies. The data was finally in the format that was in sync with our original data and thus, could be appended with our dataset. We then ran our models on this new dataset and got the top-k recommendations for all users including the users in the survey. The next step was arguably the most exciting one: we took these top-k recommendations to our friends who had filled the survey and took feedback about the recommendations that we provided. \n",
    "\n",
    "**We feel that doing this user test gave a new dimension to our recommendation system and helped us learn more about the subtleties for how the recommendations happen.** There were interesting results where we saw that many a times the system would recommend all songs from the same genre to a user, we tried to get this redundancy out by filtering for this. \n",
    "\n",
    "The accuracy of the our recommendations was 50%. In other words, out of the 12 recommendations that we made to our friends (3 per time of day (3x3=9) and 3 for whatever time of day) 6 of the songs were liked and the rest disliked. \n",
    "\n",
    "**Below are some of the impressions that we received**:\n",
    "* \" What I liked most was that the system was able to capture my personality really well, it figured out my style and recommended those songs to me. I think it was really cool to do something like that! \"\n",
    "* \" The recommendations that I'm getting are not congruent with each other. On one hand I'm getting Michael Jackson and on the other this french rap artist Jul\"\n",
    "* \" I think the model was good on capturing the genres that I like, I'm seeing quite of that in the recommendations \"\n",
    "\n",
    "**What we liked the most about this exercise is that we were able to see the different recommendations that we were generating per time of day. However, we did notice that some genres and songs were out of place from our knowledge of our friends.** We believe that adding more of our friends songs would have got us a better result. "
   ]
  },
  {
   "cell_type": "markdown",
   "metadata": {},
   "source": [
    "Below is the code that was used. Note that to also use Audio Features in generating this list, we created a \"serendipidy-filter\", which aims to improve the this characteristic in our recommendations. **The \"serendipity-filter\" takes Audio-features of the top-k songs (mainly its genre) and removes items that have similar features, thus filtering out redundant items.** We hypothesize that this will make the recommendations more appealing, if the user can select from a more diverse recommendation - but this needs to be finally evaluated through a user test. "
   ]
  },
  {
   "cell_type": "code",
   "execution_count": 33,
   "metadata": {
    "collapsed": true
   },
   "outputs": [],
   "source": [
    "# get top_k predictions for survey users (unfiltered)\n",
    "survey_user = data[data['user_id'] > 20000]['user_id'].unique()\n",
    "results = []\n",
    "for u in survey_user: \n",
    "    for c in Model.context.tolist():\n",
    "        top_k = Model.predict_topk(u,k=10,context=c).tolist()\n",
    "        results.append([u,c]+top_k)\n",
    "recommendationA = pd.DataFrame(np.array(results),columns=['user_id','context','top1', 'top2', 'top3', 'top4', 'top5', 'top6', 'top7', 'top8', 'top9', 'top10'])"
   ]
  },
  {
   "cell_type": "code",
   "execution_count": 34,
   "metadata": {},
   "outputs": [
    {
     "data": {
      "text/html": [
       "<div>\n",
       "<style>\n",
       "    .dataframe thead tr:only-child th {\n",
       "        text-align: right;\n",
       "    }\n",
       "\n",
       "    .dataframe thead th {\n",
       "        text-align: left;\n",
       "    }\n",
       "\n",
       "    .dataframe tbody tr th {\n",
       "        vertical-align: top;\n",
       "    }\n",
       "</style>\n",
       "<table border=\"1\" class=\"dataframe\">\n",
       "  <thead>\n",
       "    <tr style=\"text-align: right;\">\n",
       "      <th></th>\n",
       "      <th>user_id</th>\n",
       "      <th>context</th>\n",
       "      <th>top1</th>\n",
       "      <th>top2</th>\n",
       "      <th>top3</th>\n",
       "      <th>top4</th>\n",
       "      <th>top5</th>\n",
       "      <th>top6</th>\n",
       "      <th>top7</th>\n",
       "      <th>top8</th>\n",
       "      <th>top9</th>\n",
       "      <th>top10</th>\n",
       "    </tr>\n",
       "  </thead>\n",
       "  <tbody>\n",
       "    <tr>\n",
       "      <th>0</th>\n",
       "      <td>9999023</td>\n",
       "      <td>morning</td>\n",
       "      <td>3766763</td>\n",
       "      <td>14525574</td>\n",
       "      <td>136864896</td>\n",
       "      <td>134533230</td>\n",
       "      <td>1123690</td>\n",
       "      <td>114313214</td>\n",
       "      <td>916259</td>\n",
       "      <td>109178544</td>\n",
       "      <td>102333186</td>\n",
       "      <td>7704004</td>\n",
       "    </tr>\n",
       "    <tr>\n",
       "      <th>1</th>\n",
       "      <td>9999023</td>\n",
       "      <td>late_night</td>\n",
       "      <td>101215842</td>\n",
       "      <td>121275004</td>\n",
       "      <td>1575417</td>\n",
       "      <td>120359044</td>\n",
       "      <td>59509561</td>\n",
       "      <td>119305454</td>\n",
       "      <td>75867425</td>\n",
       "      <td>135072090</td>\n",
       "      <td>134443938</td>\n",
       "      <td>133585096</td>\n",
       "    </tr>\n",
       "    <tr>\n",
       "      <th>2</th>\n",
       "      <td>9999023</td>\n",
       "      <td>afternoon_evening</td>\n",
       "      <td>13789079</td>\n",
       "      <td>638665</td>\n",
       "      <td>2435238</td>\n",
       "      <td>70697363</td>\n",
       "      <td>134521528</td>\n",
       "      <td>66657814</td>\n",
       "      <td>136889408</td>\n",
       "      <td>107544238</td>\n",
       "      <td>119374310</td>\n",
       "      <td>793226</td>\n",
       "    </tr>\n",
       "    <tr>\n",
       "      <th>3</th>\n",
       "      <td>9999023</td>\n",
       "      <td>no_context</td>\n",
       "      <td>100651306</td>\n",
       "      <td>136590548</td>\n",
       "      <td>235469</td>\n",
       "      <td>130005752</td>\n",
       "      <td>112662270</td>\n",
       "      <td>136332796</td>\n",
       "      <td>118476608</td>\n",
       "      <td>131998704</td>\n",
       "      <td>75867417</td>\n",
       "      <td>136889426</td>\n",
       "    </tr>\n",
       "    <tr>\n",
       "      <th>4</th>\n",
       "      <td>9999022</td>\n",
       "      <td>morning</td>\n",
       "      <td>1123690</td>\n",
       "      <td>62376277</td>\n",
       "      <td>107980710</td>\n",
       "      <td>102333186</td>\n",
       "      <td>102333188</td>\n",
       "      <td>136332796</td>\n",
       "      <td>101215842</td>\n",
       "      <td>127376739</td>\n",
       "      <td>127247619</td>\n",
       "      <td>136864892</td>\n",
       "    </tr>\n",
       "  </tbody>\n",
       "</table>\n",
       "</div>"
      ],
      "text/plain": [
       "   user_id            context       top1       top2       top3       top4  \\\n",
       "0  9999023            morning    3766763   14525574  136864896  134533230   \n",
       "1  9999023         late_night  101215842  121275004    1575417  120359044   \n",
       "2  9999023  afternoon_evening   13789079     638665    2435238   70697363   \n",
       "3  9999023         no_context  100651306  136590548     235469  130005752   \n",
       "4  9999022            morning    1123690   62376277  107980710  102333186   \n",
       "\n",
       "        top5       top6       top7       top8       top9      top10  \n",
       "0    1123690  114313214     916259  109178544  102333186    7704004  \n",
       "1   59509561  119305454   75867425  135072090  134443938  133585096  \n",
       "2  134521528   66657814  136889408  107544238  119374310     793226  \n",
       "3  112662270  136332796  118476608  131998704   75867417  136889426  \n",
       "4  102333188  136332796  101215842  127376739  127247619  136864892  "
      ]
     },
     "execution_count": 34,
     "metadata": {},
     "output_type": "execute_result"
    }
   ],
   "source": [
    "# show the head recommendations - the user_ids and the song_ids can be matched and tested with the user\n",
    "recommendationA.head()"
   ]
  },
  {
   "cell_type": "markdown",
   "metadata": {},
   "source": [
    "### Cross-features classifier validation"
   ]
  },
  {
   "cell_type": "markdown",
   "metadata": {},
   "source": [
    "**The classifier was validated in a classical way.** We first perform a grid search to identify the model that has the best estimation. Below we also show the results of the accuracy achieved in each cross-validation step."
   ]
  },
  {
   "cell_type": "code",
   "execution_count": 21,
   "metadata": {
    "collapsed": true
   },
   "outputs": [],
   "source": [
    "model.grid_search_cv()"
   ]
  },
  {
   "cell_type": "code",
   "execution_count": 22,
   "metadata": {},
   "outputs": [
    {
     "name": "stdout",
     "output_type": "stream",
     "text": [
      ">>> Mean of the accuracy of the model over all folds:\n",
      "0.608692860812\n"
     ]
    },
    {
     "data": {
      "text/plain": [
       "array([ 0.61016949,  0.60795455,  0.60795455])"
      ]
     },
     "execution_count": 22,
     "metadata": {},
     "output_type": "execute_result"
    }
   ],
   "source": [
    "model.cross_val_accuracy()"
   ]
  },
  {
   "cell_type": "markdown",
   "metadata": {},
   "source": [
    "It is worth noting that the accuracy merely fluctates in each fold. This is ideal since then the features and cross-features that we have found seem to generalize properly."
   ]
  },
  {
   "cell_type": "markdown",
   "metadata": {},
   "source": [
    "---"
   ]
  },
  {
   "cell_type": "markdown",
   "metadata": {},
   "source": [
    "## Conclusions: what are the shortcomings of the approach?"
   ]
  },
  {
   "cell_type": "markdown",
   "metadata": {},
   "source": [
    "**Adding time into the model proved to be more difficult than suspected.** We point two main reasons for this. **First it introduced really high sparseness in our models**. If the input matrix already had many missing entries -without splitting the data into different time buckets- now asking for (user, time) combinations only worsened the problem. Hence, estimating all (user, time) combinations jointly was prohibitive with our computer resources. Moreover, such high index of sparseness would not guarantee convergence. **Second, we had to resort to other metrics to evaluate performance; accuracy was not the best guidance in this context.** By incorporating different time profiles per user, we were at odds with increasing accuracy. However, we did accomplish what we intended; a RecSys that outputs a different top-k list for each time of the day. To better understand the quality of this list we surveyed our close friends to get a qualitative feel of our recommendations. **Eventhough the accuracy was 50%, we were able to generate a different list of recommendations per each time of the day.** Personally, I did like the recommendation of starting the day with Bon Jovi and then relaxing in the evening with Happy by Pharell.  "
   ]
  },
  {
   "cell_type": "markdown",
   "metadata": {},
   "source": [
    "**The main shortcoming of our approach is that we discard information**. We do so by narrowing the data to consider only the data points of the time period for which we are developing the recommendations. It could be the case that a user in the morning is more similar to a user at night (going to GYM in the morning vs at night) and hence we are discarting the possibility of the model to use this information. **Finally, our use of the audio features seems \"too manual\"**. We created a classifier on top of our recommender system in order to filter out recommendations which did not had a good change of success (when considering also audio features and other user characteristics: age, gender, time). However, we are doing so after those songs have already made it into the top-k list. We would prefer a model in which those songs do not make it into that list in the first place."
   ]
  },
  {
   "cell_type": "markdown",
   "metadata": {},
   "source": [
    "---"
   ]
  }
 ],
 "metadata": {
  "kernelspec": {
   "display_name": "Python 3",
   "language": "python",
   "name": "python3"
  },
  "language_info": {
   "codemirror_mode": {
    "name": "ipython",
    "version": 3
   },
   "file_extension": ".py",
   "mimetype": "text/x-python",
   "name": "python",
   "nbconvert_exporter": "python",
   "pygments_lexer": "ipython3",
   "version": "3.6.3"
  }
 },
 "nbformat": 4,
 "nbformat_minor": 2
}
