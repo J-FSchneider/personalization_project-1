{
 "cells": [
  {
   "cell_type": "markdown",
   "metadata": {},
   "source": [
    "# Recommender System Mini-Project\n",
    "\n",
    "We were developing a recommender system for a music service, that brings more relevant items to the users. This notebook follows the following structure\n",
    "* Introduction: Data Set and Business Objective\n",
    "* Sampling and Preprocessing Data\n",
    "* Validation and Testing Set-up\n",
    "* Neighborhood Collaborative Filtering\n",
    "* Latent Factors Model\n",
    "* Summary and Conclusion\n"
   ]
  },
  {
   "cell_type": "code",
   "execution_count": 46,
   "metadata": {},
   "outputs": [
    {
     "ename": "IndentationError",
     "evalue": "unexpected indent (loss_functions.py, line 7)",
     "output_type": "error",
     "traceback": [
      "\u001b[0;36m  File \u001b[0;32m\"models/cross_validation/loss_functions.py\"\u001b[0;36m, line \u001b[0;32m7\u001b[0m\n\u001b[0;31m    error = 0\u001b[0m\n\u001b[0m    ^\u001b[0m\n\u001b[0;31mIndentationError\u001b[0m\u001b[0;31m:\u001b[0m unexpected indent\n"
     ]
    }
   ],
   "source": [
    "import numpy as np\n",
    "import pandas as pd\n",
    "import matplotlib.pyplot as plt\n",
    "from models.model_based import matrix_creation\n",
    "from models.cross_validation import ModelTester\n",
    "from models.model_based import matrix_factorization_model\n",
    "from models.cross_validation import loss_functions as lf\n",
    "\n"
   ]
  },
  {
   "cell_type": "code",
   "execution_count": 47,
   "metadata": {
    "collapsed": true
   },
   "outputs": [],
   "source": [
    "%matplotlib inline"
   ]
  },
  {
   "cell_type": "markdown",
   "metadata": {},
   "source": [
    "## Introduction: Data Set and Business Objective\n",
    "\n",
    "Our data set is obtained from Deezer, a French music streaming service. The variables of interest are user_id and media_id (which indicates a song that has been listened to). \n",
    "\n",
    "Our objective is to improve the recommendation for a user. Improvements we define as to be a more accurate rating, which is that a user is more likely to listen to the suggested song than to skip it. "
   ]
  },
  {
   "cell_type": "code",
   "execution_count": 2,
   "metadata": {
    "collapsed": true
   },
   "outputs": [],
   "source": [
    "path = '../data/train.csv'\n",
    "data = pd.read_csv(path)"
   ]
  },
  {
   "cell_type": "markdown",
   "metadata": {},
   "source": [
    "Our approach is to build two models. One neighborhood collaborative filtering recommendation and a latent factor model based approach. For the latent factor model we used 2 different models: one pre-build package that implemets SVD++ and a own-developed latent factor model that introduces bias for data missing not at random. "
   ]
  },
  {
   "cell_type": "markdown",
   "metadata": {},
   "source": [
    "---"
   ]
  },
  {
   "cell_type": "markdown",
   "metadata": {},
   "source": [
    "## Sampling Data and Preprocessing"
   ]
  },
  {
   "cell_type": "markdown",
   "metadata": {},
   "source": [
    "The raw data has about 19,918 unique users and 452,975 unique media items. For our recommender system we reduced the matrix to include less than 10,000 users and about 100 items. For this we developed two sampling methods. \n",
    "\n",
    "First, we selected the 100 most frequently exposed items, i.e. items where data about the user-item interaction is available. We then selected all users, where we had more than 10 user-item interactions avaiable. An advantage of this approach is, that we achieve a high fill rate of the resulting rating matrix, however, by only concentrating on popular items, we might loose out on serendipity of items and might ignore any bias in the most frequently exposed items (that they are from one specific genre e.g. pop). \n",
    "\n",
    "That's why we also used a second sampling approach, where we selected the 50 most frequently exposed items, and randomly sampeled 50 items from the following 10,000 most frequently ratings. We then also included every user that had more than 10 user-item interactions into the rating matrix. While we obtain a lower fill rate, it is still high enough to train the recommendation sytem, but increase diversity of the items in the system. "
   ]
  },
  {
   "cell_type": "code",
   "execution_count": 3,
   "metadata": {},
   "outputs": [
    {
     "data": {
      "text/plain": [
       "(19918, 452975)"
      ]
     },
     "execution_count": 3,
     "metadata": {},
     "output_type": "execute_result"
    }
   ],
   "source": [
    "# The number of unique users and items in the raw data\n",
    "data['user_id'].nunique(),data['media_id'].nunique()"
   ]
  },
  {
   "cell_type": "code",
   "execution_count": 4,
   "metadata": {
    "collapsed": true
   },
   "outputs": [],
   "source": [
    "# Plot different sampling stratgies => number of ratings per item (short, longtail)"
   ]
  },
  {
   "cell_type": "markdown",
   "metadata": {},
   "source": [
    "The raw data includes a time period of one month. Therefor a user might have encountered an item several times. For measuring user-item interaction we used two measures. First, we used the mean of the number of times a user has listened to a song when they encountered it (Hit-Rate). Second, we used the median of the number of times a user has listened to a song when they encountered it, to obtain a binary indication whether a user likes a song or not. For clarity reasons, we just present the hit-rate matrix in the following sections."
   ]
  },
  {
   "cell_type": "code",
   "execution_count": 5,
   "metadata": {},
   "outputs": [],
   "source": [
    "ratings = matrix_creation.hit_rate_matrix_popular_items(data)\n",
    "ratings2 = matrix_creation.hit_rate_matrix_50_50(data)"
   ]
  },
  {
   "cell_type": "code",
   "execution_count": 6,
   "metadata": {},
   "outputs": [
    {
     "name": "stdout",
     "output_type": "stream",
     "text": [
      "(8644, 100)\n",
      "0.271092086997\n"
     ]
    }
   ],
   "source": [
    "# Shape of the rating matrix with 100 most encountered items\n",
    "# Fill rate of the matrix with the 100 most encountered items\n",
    "print(ratings.shape)\n",
    "print(ratings.count().sum()/float((ratings.shape[0]*ratings.shape[1])))"
   ]
  },
  {
   "cell_type": "code",
   "execution_count": 7,
   "metadata": {},
   "outputs": [
    {
     "name": "stdout",
     "output_type": "stream",
     "text": [
      "(6024, 100)\n",
      "0.204737715803\n"
     ]
    }
   ],
   "source": [
    "# Shape of the rating matrix with 50 most encountered items and 50 randomly sampled\n",
    "# Fill rate of the 50/50 matrix\n",
    "print(ratings2.shape)\n",
    "print(ratings2.count().sum()/float((ratings2.shape[0]*ratings2.shape[1])))"
   ]
  },
  {
   "cell_type": "markdown",
   "metadata": {},
   "source": [
    "---"
   ]
  },
  {
   "cell_type": "markdown",
   "metadata": {},
   "source": [
    "## Validation and Testing Set-up\n",
    "\n",
    "To test the accuracy of our model, we used the standart train, validation, test set-up. First, we set aside a test-set of the data in the matrix, that is only used for the final testing. Second, we split the remaing data in a validation set and a training set. To make the accuracy of the predictions independent from the validation-training-split, we would use cross-validation. Which is we would use several validation-training splits at random and take the mean of the accuracy metric as result. \n",
    "\n",
    "Creating the test, validation and training split will be done by class ModelTester"
   ]
  },
  {
   "cell_type": "code",
   "execution_count": 8,
   "metadata": {},
   "outputs": [],
   "source": [
    "cross_validation = ModelTester.ModelTester()"
   ]
  },
  {
   "cell_type": "code",
   "execution_count": 9,
   "metadata": {
    "scrolled": true
   },
   "outputs": [
    {
     "name": "stdout",
     "output_type": "stream",
     "text": [
      ">>> The cross-validation framework is being built ...\n",
      "    Please wait, you'll be able to use all of its features soon!\n",
      ">>> DONE\n"
     ]
    }
   ],
   "source": [
    "cross_validation.fit_transform(ratings2)"
   ]
  },
  {
   "cell_type": "markdown",
   "metadata": {},
   "source": [
    "To test our model against a baseline, we use three measures:\n",
    "- Assining a hit rate of 1 to every user-item pair\n",
    "- Assinging the mean hit-rate to every user-item pair\n",
    "- Assining a random hit-rate to every user-item pair\n",
    "\n",
    "For these baselines we get the following test metrics\n"
   ]
  },
  {
   "cell_type": "code",
   "execution_count": 29,
   "metadata": {},
   "outputs": [
    {
     "name": "stdout",
     "output_type": "stream",
     "text": [
      "MSE: 0.364871778748\n",
      "AME: 0.416447144099\n"
     ]
    },
    {
     "data": {
      "text/plain": [
       "0.4164471440994223"
      ]
     },
     "execution_count": 29,
     "metadata": {},
     "output_type": "execute_result"
    }
   ],
   "source": [
    "# Assining a hit rate of 1 to every user-item pair\n",
    "baseline = pd.DataFrame(np.ones(ratings2.shape))\n",
    "baseline.columns = ratings2.columns\n",
    "baseline.index = ratings2.index\n",
    "cross_validation.evaluate_valid(baseline,loss_func=lf.mean_squared_error)\n",
    "cross_validation.evaluate_valid(baseline,loss_func=lf.absolute_mean_error)\n"
   ]
  },
  {
   "cell_type": "code",
   "execution_count": 30,
   "metadata": {},
   "outputs": [
    {
     "name": "stdout",
     "output_type": "stream",
     "text": [
      "MSE: 0.191535991956\n",
      "AME: 0.403972394868\n"
     ]
    },
    {
     "data": {
      "text/plain": [
       "0.4039723948684249"
      ]
     },
     "execution_count": 30,
     "metadata": {},
     "output_type": "execute_result"
    }
   ],
   "source": [
    "# Assinging the mean hit-rate to every user-item pair\n",
    "baseline = pd.DataFrame(np.ones(ratings2.shape))*ratings2.mean().mean()\n",
    "baseline.columns = ratings2.columns\n",
    "baseline.index = ratings2.index\n",
    "cross_validation.evaluate_valid(baseline,loss_func=lf.mean_squared_error)\n",
    "cross_validation.evaluate_valid(baseline,loss_func=lf.absolute_mean_error)\n"
   ]
  },
  {
   "cell_type": "code",
   "execution_count": 31,
   "metadata": {},
   "outputs": [
    {
     "name": "stdout",
     "output_type": "stream",
     "text": [
      "MSE: 0.283243084986\n",
      "AME: 0.449503257352\n"
     ]
    },
    {
     "data": {
      "text/plain": [
       "0.44950325735191887"
      ]
     },
     "execution_count": 31,
     "metadata": {},
     "output_type": "execute_result"
    }
   ],
   "source": [
    "# Assining a random hit-rate to every user-item pair\n",
    "baseline = pd.DataFrame(np.random.rand(*ratings2.shape))\n",
    "baseline.columns = ratings2.columns\n",
    "baseline.index = ratings2.index\n",
    "cross_validation.evaluate_valid(baseline,loss_func=lf.mean_squared_error)\n",
    "cross_validation.evaluate_valid(baseline,loss_func=lf.absolute_mean_error)"
   ]
  },
  {
   "cell_type": "markdown",
   "metadata": {},
   "source": [
    "---"
   ]
  },
  {
   "cell_type": "markdown",
   "metadata": {},
   "source": [
    "## Neighborhood Colloaborative Filtering"
   ]
  },
  {
   "cell_type": "code",
   "execution_count": null,
   "metadata": {
    "collapsed": true
   },
   "outputs": [],
   "source": []
  },
  {
   "cell_type": "markdown",
   "metadata": {},
   "source": [
    "---"
   ]
  },
  {
   "cell_type": "markdown",
   "metadata": {},
   "source": [
    "## Latent Factor Model \n",
    "\n",
    "For the model-based approach we chose a latent factor model with a bias term for missing data. We assume that the values in the rating matrix is not missing at random and thus introduce a bias term for missing data and weights.\n",
    "\n",
    "This section is structured in the following way\n",
    "* Define the latent factor model\n",
    "* Hyperparameter Tuning\n",
    "* Scaling\n",
    "* Final Test\n",
    "\n",
    "#### Model Definition"
   ]
  },
  {
   "cell_type": "code",
   "execution_count": 10,
   "metadata": {},
   "outputs": [
    {
     "name": "stdout",
     "output_type": "stream",
     "text": [
      "CPU times: user 16 µs, sys: 10 µs, total: 26 µs\n",
      "Wall time: 41 µs\n"
     ]
    }
   ],
   "source": [
    "# SVD with bias and regularization\n",
    "%time \n",
    "predictions, U,V = matrix_factorization_model.latent_factors_with_bias(ratings2,\n",
    "                                                            latent_factors=5, \n",
    "                                                            bias=0.2, \n",
    "                                                            bias_weights=1, \n",
    "                                                            regularization=100,\n",
    "                                                            learning_rate=0.0001, \n",
    "                                                            convergence_rate =0.99999\n",
    "                                                            )"
   ]
  },
  {
   "cell_type": "code",
   "execution_count": 10,
   "metadata": {
    "collapsed": true
   },
   "outputs": [],
   "source": [
    "# SVD++ from package"
   ]
  },
  {
   "cell_type": "markdown",
   "metadata": {},
   "source": [
    "#### Hyperparameter Tuning\n",
    "\n",
    "In this section we explore the hyper-parameters of the model and test is with respect to the crossvalidation set. The following hyperparameters need to be chosen: \n",
    "* No of latent factors\n",
    "* Regularization term\n",
    "* Bias \n",
    "* Bias weights\n",
    "\n",
    "Tuning will take place in two rounds. In the first round we will explore the parameter space, to get an idea about where the best parameters lie. The second round will be informed by this exploration and further tune the parameters to find the best performing model. \n",
    "\n",
    "##### First Round \n"
   ]
  },
  {
   "cell_type": "code",
   "execution_count": 40,
   "metadata": {},
   "outputs": [
    {
     "name": "stdout",
     "output_type": "stream",
     "text": [
      "Regularization-Parameter: 0.01\n",
      "AME: 0.350701633728\n",
      "MSE: 0.149833001097\n",
      "Regularization-Parameter: 0.05\n",
      "AME: 0.350285288509\n",
      "MSE: 0.14956475686\n",
      "Regularization-Parameter: 0.1\n",
      "AME: 0.350561343506\n",
      "MSE: 0.149691940006\n",
      "Regularization-Parameter: 0.5\n",
      "AME: 0.34946366432\n",
      "MSE: 0.149072669499\n",
      "Regularization-Parameter: 1\n",
      "AME: 0.33279826554\n",
      "MSE: 0.145603598354\n",
      "Regularization-Parameter: 5\n",
      "AME: 0.350849043074\n",
      "MSE: 0.149466793769\n",
      "Regularization-Parameter: 10\n",
      "AME: 0.35440353723\n",
      "MSE: 0.151394076155\n",
      "Regularization-Parameter: 50\n",
      "AME: 0.398375213399\n",
      "MSE: 0.186415811259\n",
      "Regularization-Parameter: 100\n",
      "AME: 0.42886708298\n",
      "MSE: 0.217569341596\n",
      "Regularization-Parameter: 500\n",
      "AME: 0.445236044819\n",
      "MSE: 0.239480227828\n",
      "Regularization-Parameter: 1000\n",
      "AME: 0.465412282958\n",
      "MSE: 0.266118270888\n"
     ]
    }
   ],
   "source": [
    "regularization= [0.01, 0.05, 0.1, 0.5, 1, 5, 10, 50, 100, 500, 1000]\n",
    "regularization_mse = []\n",
    "regularization_ame = []\n",
    "for r in regularization:\n",
    "    predictions, U,V = matrix_factorization_model.latent_factors_with_bias(ratings2,\n",
    "                                                            latent_factors=5, \n",
    "                                                            bias=0.5, \n",
    "                                                            bias_weights=0.25, \n",
    "                                                            regularization=r,\n",
    "                                                            learning_rate=0.0001, \n",
    "                                                            convergence_rate =0.99999\n",
    "                                                            )\n",
    "    predictions = pd.DataFrame(predictions)\n",
    "    predictions.columns = ratings2.columns\n",
    "    predictions.index = ratings2.index\n",
    "    print('Regularization-Parameter: '+ str(r))\n",
    "    ame = cross_validation.evaluate_valid(predictions,loss_func=lf.absolute_mean_error)\n",
    "    mse = cross_validation.evaluate_valid(predictions,loss_func=lf.mean_squared_error)\n",
    "    regularization_mse.append(mse)\n",
    "    regularization_ame.append(ame)\n"
   ]
  },
  {
   "cell_type": "code",
   "execution_count": 41,
   "metadata": {},
   "outputs": [
    {
     "name": "stdout",
     "output_type": "stream",
     "text": [
      "Number of Latent Factors: 1\n",
      "AME: 0.492493117357\n",
      "MSE: 0.328946203929\n",
      "Number of Latent Factors: 2\n",
      "AME: 0.441928009844\n",
      "MSE: 0.263383577122\n",
      "Number of Latent Factors: 3\n",
      "AME: 0.447998247904\n",
      "MSE: 0.282985962414\n",
      "Number of Latent Factors: 4\n",
      "AME: 0.457846539577\n",
      "MSE: 0.316598299503\n",
      "Number of Latent Factors: 5\n",
      "AME: 0.461985322169\n",
      "MSE: 0.332548936924\n",
      "Number of Latent Factors: 6\n",
      "AME: 0.469579887248\n",
      "MSE: 0.344993376479\n",
      "Number of Latent Factors: 7\n",
      "AME: 0.464066576272\n",
      "MSE: 0.338366743545\n",
      "Number of Latent Factors: 10\n",
      "AME: 0.446639988407\n",
      "MSE: 0.295321440078\n",
      "Number of Latent Factors: 12\n",
      "AME: 0.440517487473\n",
      "MSE: 0.265779219076\n",
      "Number of Latent Factors: 15\n",
      "AME: 0.452897014292\n",
      "MSE: 0.284925323537\n",
      "Number of Latent Factors: 17\n",
      "AME: 0.466329315849\n",
      "MSE: 0.307077897229\n",
      "Number of Latent Factors: 20\n",
      "AME: 0.782830145309\n",
      "MSE: 0.989517495673\n",
      "Number of Latent Factors: 30\n",
      "AME: 7.61320137162\n",
      "MSE: 69.8419421199\n",
      "Number of Latent Factors: 40\n",
      "AME: 24.1213897581\n",
      "MSE: 666.592686489\n",
      "Number of Latent Factors: 50\n",
      "AME: 50.8832988734\n",
      "MSE: 2888.21918813\n"
     ]
    }
   ],
   "source": [
    "latent_factors = [1,2,3,4,5,6,7,10,12,15,17,20,30,40,50]\n",
    "latent_factors_mse = []\n",
    "latent_factors_ame = []\n",
    "for l in latent_factors:\n",
    "    print('Number of Latent Factors: '+ str(l))\n",
    "    predictions, U,V = matrix_factorization_model.latent_factors_with_bias(ratings2,\n",
    "                                                            latent_factors=l, \n",
    "                                                            bias=0.5, \n",
    "                                                            bias_weights=0.25, \n",
    "                                                            regularization=0.5,\n",
    "                                                            learning_rate=0.0001, \n",
    "                                                            convergence_rate =0.1\n",
    "                                                            )\n",
    "    predictions = pd.DataFrame(predictions)\n",
    "    predictions.columns = ratings2.columns\n",
    "    predictions.index = ratings2.index\n",
    "    ame = cross_validation.evaluate_valid(predictions,loss_func=lf.absolute_mean_error)\n",
    "    mse = cross_validation.evaluate_valid(predictions,loss_func=lf.mean_squared_error)\n",
    "    latent_factors_mse.append(mse)\n",
    "    latent_factors_ame.append(ame)"
   ]
  },
  {
   "cell_type": "code",
   "execution_count": 42,
   "metadata": {},
   "outputs": [
    {
     "name": "stdout",
     "output_type": "stream",
     "text": [
      "Bias: 0.0\n",
      "AME: 0.324652053015\n",
      "MSE: 0.185644082181\n",
      "Bias: 0.1\n",
      "AME: 0.364752648363\n",
      "MSE: 0.194354332344\n",
      "Bias: 0.2\n",
      "AME: 0.354573092366\n",
      "MSE: 0.176536230509\n",
      "Bias: 0.3\n",
      "AME: 0.347674559427\n",
      "MSE: 0.163166471536\n",
      "Bias: 0.4\n",
      "AME: 0.335079582702\n",
      "MSE: 0.151223821963\n",
      "Bias: 0.5\n",
      "AME: 0.328353053759\n",
      "MSE: 0.144826968588\n",
      "Bias: 0.6\n",
      "AME: 0.345640513411\n",
      "MSE: 0.149226918356\n",
      "Bias: 0.7\n",
      "AME: 0.345191945333\n",
      "MSE: 0.154287100607\n",
      "Bias: 0.8\n",
      "AME: 0.344699636822\n",
      "MSE: 0.16213511883\n",
      "Bias: 0.9\n",
      "AME: 0.314178186388\n",
      "MSE: 0.163451461308\n",
      "Bias: 1.0\n",
      "AME: 0.348453598173\n",
      "MSE: 0.188260779746\n"
     ]
    }
   ],
   "source": [
    "# adapt latent factors and learning rate to best results from the tuning\n",
    "bias = np.arange(0.0,1.05,0.1)\n",
    "bias_ame = []\n",
    "bias_sme = []\n",
    "for b in bias:\n",
    "    print('Bias: '+ str(b))\n",
    "    predictions, U,V = matrix_factorization_model.latent_factors_with_bias(ratings2,\n",
    "                                                            latent_factors=6, \n",
    "                                                            bias=b, \n",
    "                                                            bias_weights=0.25, \n",
    "                                                            regularization=0.5,\n",
    "                                                            learning_rate=0.0001, \n",
    "                                                            convergence_rate =0.99999\n",
    "                                                            )\n",
    "    predictions = pd.DataFrame(predictions)\n",
    "    predictions.columns = ratings2.columns\n",
    "    predictions.index = ratings2.index\n",
    "    ame = cross_validation.evaluate_valid(predictions,loss_func=lf.absolute_mean_error)\n",
    "    mse = cross_validation.evaluate_valid(predictions,loss_func=lf.mean_squared_error)\n",
    "    bias_sme.append(mse)\n",
    "    bias_ame.append(ame)"
   ]
  },
  {
   "cell_type": "code",
   "execution_count": 43,
   "metadata": {},
   "outputs": [
    {
     "name": "stdout",
     "output_type": "stream",
     "text": [
      "Bias-weight: 0.01\n",
      "AME: 0.319165693195\n",
      "MSE: 0.172574366464\n",
      "Bias-weight: 0.11\n",
      "AME: 0.32345983111\n",
      "MSE: 0.152277650222\n",
      "Bias-weight: 0.21\n",
      "AME: 0.333398825399\n",
      "MSE: 0.151189233529\n",
      "Bias-weight: 0.31\n",
      "AME: 0.342740933334\n",
      "MSE: 0.153922322988\n",
      "Bias-weight: 0.41\n",
      "AME: 0.348726289456\n",
      "MSE: 0.155365362446\n",
      "Bias-weight: 0.51\n",
      "AME: 0.380214453286\n",
      "MSE: 0.169263745718\n",
      "Bias-weight: 0.61\n",
      "AME: 0.386842074422\n",
      "MSE: 0.174253626625\n",
      "Bias-weight: 0.71\n",
      "AME: 0.391924301132\n",
      "MSE: 0.178301937782\n",
      "Bias-weight: 0.81\n",
      "AME: 0.396106056101\n",
      "MSE: 0.181701384655\n",
      "Bias-weight: 0.91\n",
      "AME: 0.399921426014\n",
      "MSE: 0.18491033304\n",
      "Bias-weight: 1.01\n",
      "AME: 0.402948998772\n",
      "MSE: 0.187449975429\n"
     ]
    }
   ],
   "source": [
    "# adapt latent factors and learning rate to best results from the tuning\n",
    "bias_weights = np.arange(0.01,1.05,0.1)\n",
    "bias_weights_sme = []\n",
    "bias_weights_ame = []\n",
    "for b in bias_weights:\n",
    "    print('Bias-weight: '+ str(b))\n",
    "    predictions, U,V = matrix_factorization_model.latent_factors_with_bias(ratings2,\n",
    "                                                            latent_factors=6, \n",
    "                                                            bias=0.4, \n",
    "                                                            bias_weights=b, \n",
    "                                                            regularization=0.5,\n",
    "                                                            learning_rate=0.0001, \n",
    "                                                            convergence_rate =0.99999\n",
    "                                                            )\n",
    "    predictions = pd.DataFrame(predictions)\n",
    "    predictions.columns = ratings2.columns\n",
    "    predictions.index = ratings2.index\n",
    "    ame = cross_validation.evaluate_valid(predictions,loss_func=lf.absolute_mean_error)\n",
    "    mse = cross_validation.evaluate_valid(predictions,loss_func=lf.mean_squared_error)\n",
    "    bias_weights_sme.append(mse)\n",
    "    bias_weights_ame.append(ame)"
   ]
  },
  {
   "cell_type": "markdown",
   "metadata": {},
   "source": [
    "##### First Round: Results"
   ]
  },
  {
   "cell_type": "code",
   "execution_count": 61,
   "metadata": {},
   "outputs": [
    {
     "data": {
      "text/plain": [
       "[<matplotlib.lines.Line2D at 0x12616d4d0>]"
      ]
     },
     "execution_count": 61,
     "metadata": {},
     "output_type": "execute_result"
    },
    {
     "data": {
      "image/png": "[encoded data removed]",
      "text/plain": [
       "<matplotlib.figure.Figure at 0x1264cbf10>"
      ]
     },
     "metadata": {},
     "output_type": "display_data"
    },
    {
     "data": {
      "image/png": "[encoded data removed]",
      "text/plain": [
       "<matplotlib.figure.Figure at 0x1280668d0>"
      ]
     },
     "metadata": {},
     "output_type": "display_data"
    }
   ],
   "source": [
    "# plots \n",
    "plt.figure(1)\n",
    "plt.subplot(1,2,1)\n",
    "plt.title('Bias')\n",
    "plt.plot(bias, bias_ame)\n",
    "plt.plot(bias, bias_sme)\n",
    "plt.subplot(1,2,2)\n",
    "plt.title('Bias Weights')\n",
    "plt.plot(bias_weights, bias_weights_ame)\n",
    "plt.plot(bias_weights, bias_weights_sme)\n",
    "plt.figure(2)\n",
    "plt.subplot(1,2,1)\n",
    "plt.title('Regularization')\n",
    "plt.plot(regularization, regularization_ame)\n",
    "plt.plot(regularization, regularization_mse)\n",
    "plt.subplot(1,2,2)\n",
    "plt.title('Latent_Factors')\n",
    "plt.plot(latent_factors[:10], latent_factors_ame[:10])\n",
    "plt.plot(latent_factors[:10], latent_factors_mse[:10])"
   ]
  },
  {
   "cell_type": "markdown",
   "metadata": {},
   "source": [
    "- Result: do grid search around parameters \n",
    "* regularization: 1\n",
    "* latent_factors: 2 and 12\n",
    "* bias: 0.4-0.6\n",
    "* bias weights: 0.15-0.25"
   ]
  },
  {
   "cell_type": "markdown",
   "metadata": {},
   "source": [
    "##### Second Round - Binary Search\n",
    "find interactions between hyperparameters\n",
    "\n",
    "* Bias and bias_weights"
   ]
  },
  {
   "cell_type": "code",
   "execution_count": 65,
   "metadata": {},
   "outputs": [
    {
     "name": "stdout",
     "output_type": "stream",
     "text": [
      "Bias: 0.4\n",
      "Bias-weight: 0.15\n",
      "AME: 0.346093953522\n",
      "MSE: 0.169447791211\n",
      "Bias: 0.4\n",
      "Bias-weight: 0.175\n",
      "AME: 0.346445671834\n",
      "MSE: 0.167585558994\n",
      "Bias: 0.4\n",
      "Bias-weight: 0.2\n",
      "AME: 0.348629390059\n",
      "MSE: 0.167108112607\n",
      "Bias: 0.4\n",
      "Bias-weight: 0.225\n",
      "AME: 0.349625320839\n",
      "MSE: 0.166902605051\n",
      "Bias: 0.42\n",
      "Bias-weight: 0.15\n",
      "AME: 0.346201411446\n",
      "MSE: 0.169256017207\n",
      "Bias: 0.42\n",
      "Bias-weight: 0.175\n",
      "AME: 0.346311672335\n",
      "MSE: 0.167488883189\n",
      "Bias: 0.42\n",
      "Bias-weight: 0.2\n",
      "AME: 0.348833295611\n",
      "MSE: 0.167150023445\n",
      "Bias: 0.42\n",
      "Bias-weight: 0.225\n",
      "AME: 0.347525548502\n",
      "MSE: 0.164803080092\n",
      "Bias: 0.44\n",
      "Bias-weight: 0.15\n",
      "AME: 0.344069126807\n",
      "MSE: 0.166923406751\n",
      "Bias: 0.44\n",
      "Bias-weight: 0.175\n",
      "AME: 0.343884593011\n",
      "MSE: 0.164567355892\n",
      "Bias: 0.44\n",
      "Bias-weight: 0.2\n",
      "AME: 0.345400923015\n",
      "MSE: 0.164504622323\n",
      "Bias: 0.44\n",
      "Bias-weight: 0.225\n",
      "AME: 0.346411868768\n",
      "MSE: 0.163018182467\n",
      "Bias: 0.46\n",
      "Bias-weight: 0.15\n",
      "AME: 0.342392735376\n",
      "MSE: 0.166134409447\n",
      "Bias: 0.46\n",
      "Bias-weight: 0.175\n",
      "AME: 0.342906243813\n",
      "MSE: 0.163961581862\n",
      "Bias: 0.46\n",
      "Bias-weight: 0.2\n",
      "AME: 0.343802865832\n",
      "MSE: 0.162898118188\n",
      "Bias: 0.46\n",
      "Bias-weight: 0.225\n",
      "AME: 0.345734660936\n",
      "MSE: 0.163058580536\n",
      "Bias: 0.48\n",
      "Bias-weight: 0.15\n",
      "AME: 0.34029400261\n",
      "MSE: 0.164412818455\n",
      "Bias: 0.48\n",
      "Bias-weight: 0.175\n",
      "AME: 0.341901305182\n",
      "MSE: 0.163440262131\n",
      "Bias: 0.48\n",
      "Bias-weight: 0.2\n",
      "AME: 0.342710425187\n",
      "MSE: 0.162187495194\n",
      "Bias: 0.48\n",
      "Bias-weight: 0.225\n",
      "AME: 0.342053127585\n",
      "MSE: 0.159597765058\n",
      "Bias: 0.5\n",
      "Bias-weight: 0.15\n",
      "AME: 0.33830384577\n",
      "MSE: 0.163342718951\n",
      "Bias: 0.5\n",
      "Bias-weight: 0.175\n",
      "AME: 0.338543588074\n",
      "MSE: 0.161466220142\n",
      "Bias: 0.5\n",
      "Bias-weight: 0.2\n",
      "AME: 0.340523704742\n",
      "MSE: 0.160241124865\n",
      "Bias: 0.5\n",
      "Bias-weight: 0.225\n",
      "AME: 0.33962604798\n",
      "MSE: 0.158473200557\n",
      "Bias: 0.52\n",
      "Bias-weight: 0.15\n",
      "AME: 0.340218216621\n",
      "MSE: 0.1646420604\n",
      "Bias: 0.52\n",
      "Bias-weight: 0.175\n",
      "AME: 0.338897473994\n",
      "MSE: 0.161251911188\n",
      "Bias: 0.52\n",
      "Bias-weight: 0.2\n",
      "AME: 0.338350394266\n",
      "MSE: 0.159150987942\n",
      "Bias: 0.52\n",
      "Bias-weight: 0.225\n",
      "AME: 0.339820470474\n",
      "MSE: 0.15839081437\n",
      "Bias: 0.54\n",
      "Bias-weight: 0.15\n",
      "AME: 0.336262332808\n",
      "MSE: 0.161738097903\n",
      "Bias: 0.54\n",
      "Bias-weight: 0.175\n",
      "AME: 0.336234747549\n",
      "MSE: 0.159685401857\n",
      "Bias: 0.54\n",
      "Bias-weight: 0.2\n",
      "AME: 0.338358991403\n",
      "MSE: 0.160107106016\n",
      "Bias: 0.54\n",
      "Bias-weight: 0.225\n",
      "AME: 0.339422952341\n",
      "MSE: 0.158788531953\n",
      "Bias: 0.56\n",
      "Bias-weight: 0.15\n",
      "AME: 0.334262053155\n",
      "MSE: 0.161670137687\n",
      "Bias: 0.56\n",
      "Bias-weight: 0.175\n",
      "AME: 0.336670193824\n",
      "MSE: 0.159990370475\n",
      "Bias: 0.56\n",
      "Bias-weight: 0.2\n",
      "AME: 0.336020181045\n",
      "MSE: 0.158219971408\n",
      "Bias: 0.56\n",
      "Bias-weight: 0.225\n",
      "AME: 0.338431253435\n",
      "MSE: 0.158940069287\n",
      "Bias: 0.58\n",
      "Bias-weight: 0.15\n",
      "AME: 0.332101417482\n",
      "MSE: 0.160110070494\n",
      "Bias: 0.58\n",
      "Bias-weight: 0.175\n",
      "AME: 0.335158230567\n",
      "MSE: 0.160383610423\n",
      "Bias: 0.58\n",
      "Bias-weight: 0.2\n",
      "AME: 0.336511046247\n",
      "MSE: 0.159628694833\n",
      "Bias: 0.58\n",
      "Bias-weight: 0.225\n",
      "AME: 0.336007518499\n",
      "MSE: 0.157601429292\n"
     ]
    }
   ],
   "source": [
    "bias = np.arange(0.4,0.6,0.02)\n",
    "bias_weights = np.arange(0.15,0.251,0.025)\n",
    "bias_and_weights_mse = np.zeros((len(bias),len(bias_weights)))\n",
    "bias_and_weights_ame = np.zeros((len(bias),len(bias_weights)))\n",
    "i = 0\n",
    "for b in bias:\n",
    "    j = 0\n",
    "    for bw in bias_weights:\n",
    "        print('Bias: '+ str(b))\n",
    "        print('Bias-weight: '+ str(bw))\n",
    "        predictions, U,V = matrix_factorization_model.latent_factors_with_bias(ratings2,\n",
    "                                                                latent_factors=12, \n",
    "                                                                bias=b, \n",
    "                                                                bias_weights=bw, \n",
    "                                                                regularization=1,\n",
    "                                                                learning_rate=0.0001, \n",
    "                                                                convergence_rate =0.99999\n",
    "                                                                )\n",
    "        predictions = pd.DataFrame(predictions)\n",
    "        predictions.columns = ratings2.columns\n",
    "        predictions.index = ratings2.index\n",
    "        ame = cross_validation.evaluate_valid(predictions,loss_func=lf.absolute_mean_error)\n",
    "        mse = cross_validation.evaluate_valid(predictions,loss_func=lf.mean_squared_error)\n",
    "        bias_and_weights_mse[i,j] = mse\n",
    "        bias_and_weights_ame[i,j] = ame\n",
    "        j += 1\n",
    "    i += 1 "
   ]
  },
  {
   "cell_type": "markdown",
   "metadata": {},
   "source": [
    "* Latent factors and regularization"
   ]
  },
  {
   "cell_type": "code",
   "execution_count": null,
   "metadata": {},
   "outputs": [
    {
     "name": "stdout",
     "output_type": "stream",
     "text": [
      "Latent_factors: 2\n",
      "Regularization: 0.5\n",
      "AME: 0.346625243663\n",
      "MSE: 0.148290783254\n",
      "Latent_factors: 2\n",
      "Regularization: 0.6\n",
      "AME: 0.346583328467\n",
      "MSE: 0.14831410283\n",
      "Latent_factors: 2\n",
      "Regularization: 0.7\n",
      "AME: 0.346722396996\n",
      "MSE: 0.148418089543\n",
      "Latent_factors: 2\n",
      "Regularization: 0.8\n",
      "AME: 0.346504542531\n",
      "MSE: 0.148222022891\n",
      "Latent_factors: 2\n",
      "Regularization: 0.9\n"
     ]
    }
   ],
   "source": [
    "latent_factors = [2,3,4,5,6,7,8,9,10,11,12]\n",
    "regularization = np.arange(0.5,1.5,0.1)\n",
    "lat_and_reg_mse = np.zeros((len(latent_factors),len(regularization)))\n",
    "lat_and_reg_ame = np.zeros((len(bias),len(bias_weights)))\n",
    "i = 0\n",
    "for l in latent_factors:\n",
    "    j = 0\n",
    "    for r in regularization:\n",
    "        print('Latent_factors: '+ str(l))\n",
    "        print('Regularization: '+ str(r))\n",
    "        predictions, U,V = matrix_factorization_model.latent_factors_with_bias(ratings2,\n",
    "                                                                latent_factors=l, \n",
    "                                                                bias=0.4, \n",
    "                                                                bias_weights=0.2, \n",
    "                                                                regularization=r,\n",
    "                                                                learning_rate=0.0001, \n",
    "                                                                convergence_rate =0.99999\n",
    "                                                                )\n",
    "        predictions = pd.DataFrame(predictions)\n",
    "        predictions.columns = ratings2.columns\n",
    "        predictions.index = ratings2.index\n",
    "        ame = cross_validation.evaluate_valid(predictions,loss_func=lf.absolute_mean_error)\n",
    "        mse = cross_validation.evaluate_valid(predictions,loss_func=lf.mean_squared_error)\n",
    "        lat_and_reg_mse[i,j] = mse\n",
    "        lat_and_reg_ame[i,j] = ame\n",
    "        j += 1\n",
    "    i += 1 "
   ]
  },
  {
   "cell_type": "markdown",
   "metadata": {},
   "source": [
    "##### Second Round: Results"
   ]
  },
  {
   "cell_type": "code",
   "execution_count": null,
   "metadata": {
    "collapsed": true
   },
   "outputs": [],
   "source": []
  },
  {
   "cell_type": "markdown",
   "metadata": {},
   "source": [
    "#### Scaling "
   ]
  },
  {
   "cell_type": "code",
   "execution_count": null,
   "metadata": {
    "collapsed": true
   },
   "outputs": [],
   "source": []
  },
  {
   "cell_type": "markdown",
   "metadata": {},
   "source": [
    "###### Result Summary \n"
   ]
  },
  {
   "cell_type": "code",
   "execution_count": null,
   "metadata": {},
   "outputs": [],
   "source": [
    "predictions, U,V = matrix_factorization_model.latent_factors_with_bias(ratings2,\n",
    "                                                                latent_factors=6, \n",
    "                                                                bias=0.5, \n",
    "                                                                bias_weights=0.25, \n",
    "                                                                regularization=0.6,\n",
    "                                                                learning_rate=0.0001, \n",
    "                                                                convergence_rate =0.99999\n",
    "                                                                ) \n"
   ]
  },
  {
   "cell_type": "code",
   "execution_count": null,
   "metadata": {},
   "outputs": [],
   "source": [
    "predictions = pd.DataFrame(predictions)\n",
    "predictions.columns = ratings2.columns\n",
    "predictions.index = ratings2.index\n",
    "cross_validation.evaluate_test(predictions,loss_func=lf.mean_squared_error)\n",
    "cross_validation.evaluate_test(predictions,loss_func=lf.absolute_mean_error)"
   ]
  },
  {
   "cell_type": "markdown",
   "metadata": {},
   "source": [
    "---"
   ]
  },
  {
   "cell_type": "markdown",
   "metadata": {},
   "source": [
    "## Results Summary and Conclusions and Open Questions"
   ]
  },
  {
   "cell_type": "code",
   "execution_count": null,
   "metadata": {
    "collapsed": true
   },
   "outputs": [],
   "source": []
  }
 ],
 "metadata": {
  "anaconda-cloud": {},
  "kernelspec": {
   "display_name": "Python 3",
   "language": "python",
   "name": "python3"
  },
  "language_info": {
   "codemirror_mode": {
    "name": "ipython",
    "version": 3
   },
   "file_extension": ".py",
   "mimetype": "text/x-python",
   "name": "python",
   "nbconvert_exporter": "python",
   "pygments_lexer": "ipython3",
   "version": "3.6.3"
  }
 },
 "nbformat": 4,
 "nbformat_minor": 2
}
