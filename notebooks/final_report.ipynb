{
 "cells": [
  {
   "cell_type": "markdown",
   "metadata": {},
   "source": [
    "## Latent Factor Model \n",
    "\n",
    "For the model-based approach we chose a latent factor model with a bias term for missing data. We assume that the values in the rating matrix is not missing at random and thus introduce a bias term for missing data and weights.\n",
    "\n",
    "This section is structured in the following way\n",
    "* Define the latent factor model\n",
    "* Hyperparameter Tuning\n",
    "* Scaling\n",
    "* Final Test\n",
    "\n",
    "#### Model Definition"
   ]
  },
  {
   "cell_type": "code",
   "execution_count": 1,
   "metadata": {
    "collapsed": false
   },
   "outputs": [
    {
     "name": "stderr",
     "output_type": "stream",
     "text": [
      "//anaconda/lib/python2.7/site-packages/matplotlib/font_manager.py:273: UserWarning: Matplotlib is building the font cache using fc-list. This may take a moment.\n",
      "  warnings.warn('Matplotlib is building the font cache using fc-list. This may take a moment.')\n"
     ]
    }
   ],
   "source": [
    "path = 'data/train.csv'\n",
    "import numpy as np\n",
    "import pandas as pd\n",
    "import matplotlib.pyplot as plt\n",
    "\n",
    "%matplotlib inline\n",
    "data = pd.read_csv(path)\n"
   ]
  },
  {
   "cell_type": "code",
   "execution_count": 16,
   "metadata": {
    "collapsed": true
   },
   "outputs": [],
   "source": [
    "def sample_data_50_50(data):\n",
    "    user_rating_count = data.groupby('user_id')['media_id'].nunique()\n",
    "    # List of users in ascending order (by number of songs, not unique, listened to)\n",
    "    user_rating_count = user_rating_count.sort_values(axis=0, ascending=False)\n",
    "    # select 10,000 most active users\n",
    "    # TODO: check variable u_sel never used\n",
    "    user = user_rating_count[:10000].index\n",
    "    \n",
    "\n",
    "    # List of unique media ids (with user count)\n",
    "    media_count = data.groupby('media_id')['user_id'].nunique()\n",
    "    # List of media in ascending order (by number of users)\n",
    "    media_count = media_count.sort_values(axis=0, ascending=False)\n",
    "    # Select top 100 items\n",
    "\n",
    "    # TODO: check variable m_sel never used\n",
    "    media1 = media_count[:50]\n",
    "    media2 = media_count[51:5000].sample(n=50)\n",
    "    media = media1.append(media2).index\n",
    "\n",
    "    # return list with media_ids\n",
    "\n",
    "    return user, media"
   ]
  },
  {
   "cell_type": "code",
   "execution_count": 8,
   "metadata": {
    "collapsed": true
   },
   "outputs": [],
   "source": [
    "def rating_matrix(data, user, media):\n",
    "    # TODO: Add standard docstring\n",
    "\t# returns a rating matrix in wide format given a long format table, sampled by the specified user and media ids\n",
    "    # data: the raw_data to build the matrix from\n",
    "    # user: an df of user_ids to select from data\n",
    "    # media: an df of media_ids which to include into the ratings matrix\n",
    "\n",
    "    # sample users\n",
    "    users = data[data['user_id'].isin(user)]\n",
    "\n",
    "    # sample items\n",
    "    items = users[users['media_id'].isin(media)]\n",
    "\n",
    "    # drop duplicates (assumption: keep the first of an item)\n",
    "    matrix = items.drop_duplicates(subset=['media_id', 'user_id'], keep='first')\n",
    "\n",
    "    # get long format into wide format\n",
    "    # TODO: check memory usage, improve to sparse matrix storage if necessary\n",
    "    matrix = matrix.pivot(index='user_id',\n",
    "                          columns='media_id',\n",
    "                          values='is_listened')\n",
    "\n",
    "    return matrix"
   ]
  },
  {
   "cell_type": "code",
   "execution_count": 17,
   "metadata": {
    "collapsed": false
   },
   "outputs": [
    {
     "name": "stdout",
     "output_type": "stream",
     "text": [
      "100\n",
      "Int64Index([132434634, 129632340, 131576046, 124603270, 133165774, 133661814,\n",
      "            132123604, 129011934,  67354825, 132614858,  70266756, 122440564,\n",
      "            122927594, 129310248, 125089724, 132123626, 132123630, 132265704,\n",
      "            129313094, 124237488, 126866297, 122886138, 130604714, 134748108,\n",
      "            119437608, 118986142, 117678828, 120026876, 125890431,  78671166,\n",
      "             73982869, 127539479, 133940962, 127248545,  95813354, 122450802,\n",
      "             79223833, 123883254,  99976954, 124550860, 127246869, 129121520,\n",
      "            111780412,   3135183,  95938334, 130250890, 126884459,  86922279,\n",
      "             92734438, 132123606,   1044157,  97956134,   2963337, 134464870,\n",
      "              1056838, 134951488,    769970, 136336120, 114438294, 124105990,\n",
      "             98286648,   2603789,  75212314,  65446363, 134300156, 108937884,\n",
      "            114393902,  89538849,   6426473, 133583416, 133782124,   3098217,\n",
      "             68442426,  66201357,    280556, 124262676,    662101,   3148009,\n",
      "            107114608,  83844556, 134830986, 103870122,   1176414, 136803674,\n",
      "             62738614,  35407931, 134019620,    557625,  88252835,   2463406,\n",
      "              3614124,  17332925, 132479814, 114438548,   2173929, 126844829,\n",
      "            125539808,  69106335,  61424047,  12292198],\n",
      "           dtype='int64', name=u'media_id')\n"
     ]
    }
   ],
   "source": [
    "user, media = sample_data_50_50(data)\n",
    "print media"
   ]
  },
  {
   "cell_type": "code",
   "execution_count": null,
   "metadata": {
    "collapsed": true
   },
   "outputs": [],
   "source": []
  },
  {
   "cell_type": "markdown",
   "metadata": {},
   "source": [
    "#### Hyperparameter Tuning\n",
    "\n",
    "In this section we explore the hyper-parameters of the model and test is with respect to the crossvalidation set. The following hyperparameters need to be chosen: \n",
    "* No of latent factors\n",
    "* Regularization term\n",
    "* Bias \n",
    "* Bias weights\n",
    "\n",
    "Tuning will take place in two rounds. In the first round we will explore the parameter space, to get an idea about where the best parameters lie. The second round will be informed by this exploration and further tune the parameters to find the best performing model. \n",
    "\n",
    "##### First Round \n"
   ]
  },
  {
   "cell_type": "code",
   "execution_count": null,
   "metadata": {
    "collapsed": true
   },
   "outputs": [],
   "source": [
    "regularization= [0.01, 0.05, 0.1, 0.5, 1, 5, 10, 50, 100, 500, 1000]\n",
    "latent_factors = [1,2,3,5,8,10,15,20,25,30,50,100]\n",
    "bias = range(0,1,0.05)\n",
    "bias_weights = [0.01, 0.05, 0.1, 0.3, 0.5, 0.8, 1]\n",
    "\n",
    "performance = np.zeros((len(regularization),len(latent_factors),len(bias), len(bias_weights)))\n",
    "\n",
    "i = 0\n",
    "j = 0\n",
    "k = 0\n",
    "l = 0\n",
    "\n",
    "for r in regularization: \n",
    "    for l in latent_factors: \n",
    "        for b in bias: \n",
    "            for bw in bias_weights: \n",
    "                R_hat, U, V = latent_factors_with_bias(matrix, latent_factors=l ,regularization=r )\n",
    "                acc = test_accuracy(matrix, R_hat)\n",
    "                performance[i,j,k,l] = acc\n",
    "                l += 1\n",
    "            k += 1\n",
    "        j +=1\n",
    "    i +=1"
   ]
  },
  {
   "cell_type": "markdown",
   "metadata": {},
   "source": [
    "##### First Round: Results"
   ]
  },
  {
   "cell_type": "code",
   "execution_count": null,
   "metadata": {
    "collapsed": true
   },
   "outputs": [],
   "source": [
    "\n",
    "\n",
    "\n",
    "\n"
   ]
  },
  {
   "cell_type": "markdown",
   "metadata": {},
   "source": [
    "##### Second Round"
   ]
  },
  {
   "cell_type": "code",
   "execution_count": null,
   "metadata": {
    "collapsed": true
   },
   "outputs": [],
   "source": []
  },
  {
   "cell_type": "markdown",
   "metadata": {},
   "source": [
    "##### Second Round: Results"
   ]
  },
  {
   "cell_type": "code",
   "execution_count": null,
   "metadata": {
    "collapsed": true
   },
   "outputs": [],
   "source": []
  }
 ],
 "metadata": {
  "anaconda-cloud": {},
  "kernelspec": {
   "display_name": "Python [conda root]",
   "language": "python",
   "name": "conda-root-py"
  },
  "language_info": {
   "codemirror_mode": {
    "name": "ipython",
    "version": 2
   },
   "file_extension": ".py",
   "mimetype": "text/x-python",
   "name": "python",
   "nbconvert_exporter": "python",
   "pygments_lexer": "ipython2",
   "version": "2.7.13"
  }
 },
 "nbformat": 4,
 "nbformat_minor": 2
}
